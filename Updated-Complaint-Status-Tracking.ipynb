{
 "cells": [
  {
   "cell_type": "code",
   "execution_count": 1,
   "metadata": {},
   "outputs": [],
   "source": [
    "import pandas as pd\n",
    "import seaborn as sns\n",
    "import missingno as msno\n",
    "import numpy as np\n",
    "import math\n",
    "import matplotlib.pyplot as plt\n",
    "#Classification\n",
    "from sklearn.linear_model import LogisticRegression\n",
    "from sklearn.svm import LinearSVC,SVC\n",
    "from sklearn.neighbors import KNeighborsClassifier\n",
    "from sklearn.ensemble import RandomForestClassifier,GradientBoostingClassifier\n",
    "from sklearn.tree import DecisionTreeClassifier\n",
    "from sklearn.naive_bayes import GaussianNB\n",
    "import unicodedata\n",
    "import unidecode\n",
    "import re\n",
    "#regression\n",
    "from sklearn.linear_model import LinearRegression,Ridge,Lasso,RidgeCV\n",
    "from sklearn.ensemble import RandomForestRegressor,BaggingRegressor,GradientBoostingRegressor,AdaBoostRegressor\n",
    "from sklearn.svm import SVR\n",
    "from sklearn.neighbors import KNeighborsRegressor\n",
    "\n",
    "\n",
    "#model selection\n",
    "from sklearn.model_selection import train_test_split,cross_validate\n",
    "from sklearn.model_selection import KFold\n",
    "from sklearn.model_selection import GridSearchCV\n",
    "\n",
    "\n",
    "#evaluation metrics\n",
    "from sklearn.metrics import mean_squared_log_error,mean_squared_error, r2_score,mean_absolute_error # for regression\n",
    "from sklearn.metrics import accuracy_score,precision_score,recall_score,f1_score  # for classification\n",
    "\n",
    "#preprocessing \n",
    "from sklearn import preprocessing\n",
    "import sklearn.preprocessing\n",
    "from sklearn.preprocessing import LabelEncoder\n",
    "import category_encoders as ce\n",
    "from langdetect import detect\n"
   ]
  },
  {
   "cell_type": "code",
   "execution_count": 6,
   "metadata": {},
   "outputs": [],
   "source": [
    "train = pd.read_csv('/Users/rahulsharma/Teams/c3cc8568-0-dataset/train.csv')\n",
    "test = pd.read_csv('/Users/rahulsharma/Teams/c3cc8568-0-dataset/test.csv')\n",
    "df = train.copy()\n",
    "df_test = test.copy()"
   ]
  },
  {
   "cell_type": "code",
   "execution_count": 3,
   "metadata": {},
   "outputs": [],
   "source": [
    "def remove_accented_chars(text):\n",
    "    text = unicodedata.normalize('NFKD', text).encode('ascii', 'ignore').decode('utf-8', 'ignore')\n",
    "    return text\n",
    "\n",
    "def remove_special_characters(text, remove_digits=True):\n",
    "    text = re.sub(pattern, '', text)\n",
    "    return text\n",
    "\n",
    "remove_digits = True\n",
    "pattern = r'[^a-zA-z0-9\\s]' if not remove_digits else r'[^a-zA-z\\s]'"
   ]
  },
  {
   "cell_type": "code",
   "execution_count": 10,
   "metadata": {},
   "outputs": [],
   "source": [
    "for i in range(0,len(df)):\n",
    "    text = df['Consumer-complaint-summary'][i]\n",
    "    uni_string = unicode(text,\"utf-8\")\n",
    "    remove_acc_string = remove_accented_chars(uni_string)\n",
    "    remove_spe_string = remove_special_characters(remove_acc_string)\n",
    "    df['Consumer-complaint-summary'][i] = remove_spe_string\n",
    "    "
   ]
  },
  {
   "cell_type": "code",
   "execution_count": 12,
   "metadata": {},
   "outputs": [
    {
     "data": {
      "text/plain": [
       "u'El XXXX  XXXX   estaba preparando el vuelo de regreso a XXXX vea XXXX para el funeral de un familiar cercano y me aloje en un hotel en el aeropuerto XXXX Antes de irme contrate a una cuidadora de perros y su amiga que me habian referido personas que conocia para que vigilaran mis perros XXXX en mi casa recogieran mi correo y cuidaran mis plantas Le habia dado a esta persona la llave de mi casa En XXXX  XXXX   vuelo a XXXX y no regrese a XXXX hasta la tarde de XXXX  XXXX   Cuando llegue a casa me di cuenta de que mi tarjeta de debito se habia utilizado para hacer aproximadamente XXXX compras desde mi cuenta de cheques con Capital One  Inmediatamente llame y detuve mi tarjeta de debito pero como habia estado fuera durante mas de una semana No sabia que habia pasado Desde que ocurrio esto luche con Capital One con unas y dientes y aunque envie a Capital One una declaracion jurada notariada de que los cargos XXXX no son mios una copia de mi itinerario y un informe policial han continuado cuestionandome Todos y cada uno de los cargos haciendome enviarles exactamente el mismo papeleo para todos y cada uno de los cargos eventualmente encontrando a mi favor todos los cargos excepto XXXX que es la razon de esta queja Hubo un cargo por   realizado en XXXX  XXXX   tambien cuando todavia estaba en XXXX a traves del Catalogo en linea XXXX ordenado con entrega al dia siguiente Tenga en cuenta que soy un cliente de XXXX pero nunca he realizado un pedido en linea o a traves de su catalogo Siempre he ido directamente a XXXX de las XXXX tiendas disponibles en el area XXXX Ademas tenia un credito de XXXX que acababa de recibir por correo unos dias antes de irme y que estaba sentado en mi escritorio junto a mi computadora con un  de descuento Este cupon fue utilizado por la mujer que tambien uso mi tarjeta Supongo que al banco le parecio algo extrano que la persona que uso mi tarjeta de debito tambien usara este cupon del  Sin embargo creo que ella probablemente estaba tratando de comprar la mayor cantidad de mercaderia que podia con mi tarjeta de debito y por lo tanto uso este cupon ya que estaba alli desplegado y abierto Di vueltas y vueltas con Capital One sobre este cargo y XXXX por supuesto lo dispute Le pregunte a Capital One como podian encontrar que todos los otros cargos de XXXX no eran mios pero que este era  La otra cosa fue que este articulo fue enviado por XXXX sin necesidad de firma Eso es extrano en si mismo El comprobante de entrega adjunto dice que el repartidor fue recibido por una mujer Eso es imposible porque estuve fuera todo el dia en el XXXX de XXXX de  ya que tenia examenes medicos programados a XXXX millas de distancia en XXXX No recibi este articulo XXXX sin embargo a la mujer que contrate se le dijo que dejara mis amas de casa debajo de mi colchoneta desde entonces he cambiado mi cerradura y estaban alli cuando llegue a casa temprano en la noche del XXXX  XXXX   mi reclamo respalda toda mi discusion con Capital One  el informe de la policia la disputa de XXXX la pagina de entrega del articulo XXXX sin firma y mi itinerario que muestra que estuve fuera de la ciudad hasta las XXXX am del XXXX  XXXX   y luego no estaba en casa Todo el dia de XXXX  XXXX   Capital One se ha negado a ver mi punto de vista sobre esta reclamacion asi que no estoy solo por   por un articulo que nunca recibi pero tampoco puedo usar el credito XXXX para El  de descuento que es legitimamente mio y fue usado por esta mujer cuando estaba en Back XXXX para un funeral familiar Me dirigi al Departamento de Banca para un mayor manejo y para hacer que Capital One  me devuelva el dinero de   ya que no hice esta transaccion y no me beneficie de esta transaccion'"
      ]
     },
     "execution_count": 12,
     "metadata": {},
     "output_type": "execute_result"
    }
   ],
   "source": [
    "df['Consumer-complaint-summary'][2]"
   ]
  },
  {
   "cell_type": "code",
   "execution_count": 15,
   "metadata": {},
   "outputs": [
    {
     "data": {
      "text/plain": [
       "u'es'"
      ]
     },
     "execution_count": 15,
     "metadata": {},
     "output_type": "execute_result"
    }
   ],
   "source": [
    "detect(df['Consumer-complaint-summary'][2])"
   ]
  },
  {
   "cell_type": "code",
   "execution_count": 19,
   "metadata": {},
   "outputs": [],
   "source": [
    "for i in range(0,len(df)):\n",
    "    text = df['Consumer-complaint-summary'][i]\n",
    "    df['Summary-lang'][i] = detect(text)\n",
    "    "
   ]
  },
  {
   "cell_type": "code",
   "execution_count": 23,
   "metadata": {},
   "outputs": [],
   "source": [
    "df.to_csv(\"Consumer-Complaint-Summary-With-Lang.csv\")"
   ]
  },
  {
   "cell_type": "code",
   "execution_count": 25,
   "metadata": {},
   "outputs": [],
   "source": [
    "df.drop(df[df['Summary-lang']!=\"en\"].index, inplace=True)"
   ]
  },
  {
   "cell_type": "code",
   "execution_count": 27,
   "metadata": {},
   "outputs": [
    {
     "data": {
      "text/plain": [
       "(27788, 10)"
      ]
     },
     "execution_count": 27,
     "metadata": {},
     "output_type": "execute_result"
    }
   ],
   "source": [
    "df.shape"
   ]
  },
  {
   "cell_type": "code",
   "execution_count": 35,
   "metadata": {},
   "outputs": [
    {
     "data": {
      "text/html": [
       "<div>\n",
       "<style scoped>\n",
       "    .dataframe tbody tr th:only-of-type {\n",
       "        vertical-align: middle;\n",
       "    }\n",
       "\n",
       "    .dataframe tbody tr th {\n",
       "        vertical-align: top;\n",
       "    }\n",
       "\n",
       "    .dataframe thead th {\n",
       "        text-align: right;\n",
       "    }\n",
       "</style>\n",
       "<table border=\"1\" class=\"dataframe\">\n",
       "  <thead>\n",
       "    <tr style=\"text-align: right;\">\n",
       "      <th></th>\n",
       "      <th>Complaint-ID</th>\n",
       "      <th>Date-received</th>\n",
       "      <th>Transaction-Type</th>\n",
       "      <th>Complaint-reason</th>\n",
       "      <th>Company-response</th>\n",
       "      <th>Date-sent-to-company</th>\n",
       "      <th>Complaint-Status</th>\n",
       "      <th>Consumer-disputes</th>\n",
       "      <th>Consumer-complaint-summary</th>\n",
       "      <th>Summary-lang</th>\n",
       "    </tr>\n",
       "  </thead>\n",
       "  <tbody>\n",
       "    <tr>\n",
       "      <th>3</th>\n",
       "      <td>Tr-4</td>\n",
       "      <td>11/12/2016</td>\n",
       "      <td>Debt collection</td>\n",
       "      <td>Cont'd attempts collect debt not owed</td>\n",
       "      <td>Company believes it acted appropriately as aut...</td>\n",
       "      <td>11/12/2016</td>\n",
       "      <td>Closed with explanation</td>\n",
       "      <td>No</td>\n",
       "      <td>The loan was paid in XXXX XXXX In XXXX  years ...</td>\n",
       "      <td>en</td>\n",
       "    </tr>\n",
       "    <tr>\n",
       "      <th>5</th>\n",
       "      <td>Tr-6</td>\n",
       "      <td>8/2/2016</td>\n",
       "      <td>Mortgage</td>\n",
       "      <td>Loan modification,collection,foreclosure</td>\n",
       "      <td>NaN</td>\n",
       "      <td>8/3/2016</td>\n",
       "      <td>Closed with explanation</td>\n",
       "      <td>Yes</td>\n",
       "      <td>The owner of my original mortgage filed for ba...</td>\n",
       "      <td>en</td>\n",
       "    </tr>\n",
       "    <tr>\n",
       "      <th>10</th>\n",
       "      <td>Tr-11</td>\n",
       "      <td>1/10/2016</td>\n",
       "      <td>Mortgage</td>\n",
       "      <td>Loan servicing, payments, escrow account</td>\n",
       "      <td>NaN</td>\n",
       "      <td>1/15/2016</td>\n",
       "      <td>Closed with explanation</td>\n",
       "      <td>No</td>\n",
       "      <td>My mortgage provider United Wholesale Mortgage...</td>\n",
       "      <td>en</td>\n",
       "    </tr>\n",
       "    <tr>\n",
       "      <th>11</th>\n",
       "      <td>Tr-12</td>\n",
       "      <td>3/5/2016</td>\n",
       "      <td>Credit card</td>\n",
       "      <td>Credit card protection / Debt protection</td>\n",
       "      <td>NaN</td>\n",
       "      <td>3/5/2016</td>\n",
       "      <td>Closed with explanation</td>\n",
       "      <td>No</td>\n",
       "      <td>My boyfriend and I bought a XXXX sofa and we h...</td>\n",
       "      <td>en</td>\n",
       "    </tr>\n",
       "    <tr>\n",
       "      <th>13</th>\n",
       "      <td>Tr-14</td>\n",
       "      <td>9/24/2015</td>\n",
       "      <td>Credit reporting</td>\n",
       "      <td>Incorrect information on credit report</td>\n",
       "      <td>Company chooses not to provide a public response</td>\n",
       "      <td>9/24/2015</td>\n",
       "      <td>Closed with explanation</td>\n",
       "      <td>No</td>\n",
       "      <td>Both accounts below are settled and closed You...</td>\n",
       "      <td>en</td>\n",
       "    </tr>\n",
       "    <tr>\n",
       "      <th>14</th>\n",
       "      <td>Tr-15</td>\n",
       "      <td>12/28/2016</td>\n",
       "      <td>Consumer Loan</td>\n",
       "      <td>Managing the loan or lease</td>\n",
       "      <td>NaN</td>\n",
       "      <td>12/28/2016</td>\n",
       "      <td>Closed</td>\n",
       "      <td>No</td>\n",
       "      <td>In XX  XX  XXXX we open a lease with XXXX DBA ...</td>\n",
       "      <td>en</td>\n",
       "    </tr>\n",
       "    <tr>\n",
       "      <th>15</th>\n",
       "      <td>Tr-16</td>\n",
       "      <td>8/17/2017</td>\n",
       "      <td>Credit card or prepaid card</td>\n",
       "      <td>Problem when making payments</td>\n",
       "      <td>Company has responded to the consumer and the ...</td>\n",
       "      <td>8/17/2017</td>\n",
       "      <td>Closed with monetary relief</td>\n",
       "      <td>NaN</td>\n",
       "      <td>I had scheduled a full TIME payment in their o...</td>\n",
       "      <td>en</td>\n",
       "    </tr>\n",
       "    <tr>\n",
       "      <th>18</th>\n",
       "      <td>Tr-19</td>\n",
       "      <td>3/2/2017</td>\n",
       "      <td>Debt collection</td>\n",
       "      <td>Disclosure verification of debt</td>\n",
       "      <td>Company disputes the facts presented in the co...</td>\n",
       "      <td>3/2/2017</td>\n",
       "      <td>Closed with explanation</td>\n",
       "      <td>No</td>\n",
       "      <td>Never called or received any written notice of...</td>\n",
       "      <td>en</td>\n",
       "    </tr>\n",
       "    <tr>\n",
       "      <th>20</th>\n",
       "      <td>Tr-21</td>\n",
       "      <td>2/18/2016</td>\n",
       "      <td>Credit card</td>\n",
       "      <td>Customer service / Customer relations</td>\n",
       "      <td>NaN</td>\n",
       "      <td>2/18/2016</td>\n",
       "      <td>Closed with explanation</td>\n",
       "      <td>No</td>\n",
       "      <td>The use of the Gap Visa card issued by GE Capi...</td>\n",
       "      <td>en</td>\n",
       "    </tr>\n",
       "    <tr>\n",
       "      <th>22</th>\n",
       "      <td>Tr-23</td>\n",
       "      <td>4/28/2016</td>\n",
       "      <td>Mortgage</td>\n",
       "      <td>Loan servicing, payments, escrow account</td>\n",
       "      <td>NaN</td>\n",
       "      <td>4/28/2016</td>\n",
       "      <td>Closed with explanation</td>\n",
       "      <td>No</td>\n",
       "      <td>The mortgage loan was transferred from XXXX to...</td>\n",
       "      <td>en</td>\n",
       "    </tr>\n",
       "  </tbody>\n",
       "</table>\n",
       "</div>"
      ],
      "text/plain": [
       "   Complaint-ID Date-received             Transaction-Type  \\\n",
       "3          Tr-4    11/12/2016              Debt collection   \n",
       "5          Tr-6      8/2/2016                     Mortgage   \n",
       "10        Tr-11     1/10/2016                     Mortgage   \n",
       "11        Tr-12      3/5/2016                  Credit card   \n",
       "13        Tr-14     9/24/2015             Credit reporting   \n",
       "14        Tr-15    12/28/2016                Consumer Loan   \n",
       "15        Tr-16     8/17/2017  Credit card or prepaid card   \n",
       "18        Tr-19      3/2/2017              Debt collection   \n",
       "20        Tr-21     2/18/2016                  Credit card   \n",
       "22        Tr-23     4/28/2016                     Mortgage   \n",
       "\n",
       "                            Complaint-reason  \\\n",
       "3      Cont'd attempts collect debt not owed   \n",
       "5   Loan modification,collection,foreclosure   \n",
       "10  Loan servicing, payments, escrow account   \n",
       "11  Credit card protection / Debt protection   \n",
       "13    Incorrect information on credit report   \n",
       "14                Managing the loan or lease   \n",
       "15              Problem when making payments   \n",
       "18           Disclosure verification of debt   \n",
       "20     Customer service / Customer relations   \n",
       "22  Loan servicing, payments, escrow account   \n",
       "\n",
       "                                     Company-response Date-sent-to-company  \\\n",
       "3   Company believes it acted appropriately as aut...           11/12/2016   \n",
       "5                                                 NaN             8/3/2016   \n",
       "10                                                NaN            1/15/2016   \n",
       "11                                                NaN             3/5/2016   \n",
       "13   Company chooses not to provide a public response            9/24/2015   \n",
       "14                                                NaN           12/28/2016   \n",
       "15  Company has responded to the consumer and the ...            8/17/2017   \n",
       "18  Company disputes the facts presented in the co...             3/2/2017   \n",
       "20                                                NaN            2/18/2016   \n",
       "22                                                NaN            4/28/2016   \n",
       "\n",
       "               Complaint-Status Consumer-disputes  \\\n",
       "3       Closed with explanation                No   \n",
       "5       Closed with explanation               Yes   \n",
       "10      Closed with explanation                No   \n",
       "11      Closed with explanation                No   \n",
       "13      Closed with explanation                No   \n",
       "14                       Closed                No   \n",
       "15  Closed with monetary relief               NaN   \n",
       "18      Closed with explanation                No   \n",
       "20      Closed with explanation                No   \n",
       "22      Closed with explanation                No   \n",
       "\n",
       "                           Consumer-complaint-summary Summary-lang  \n",
       "3   The loan was paid in XXXX XXXX In XXXX  years ...           en  \n",
       "5   The owner of my original mortgage filed for ba...           en  \n",
       "10  My mortgage provider United Wholesale Mortgage...           en  \n",
       "11  My boyfriend and I bought a XXXX sofa and we h...           en  \n",
       "13  Both accounts below are settled and closed You...           en  \n",
       "14  In XX  XX  XXXX we open a lease with XXXX DBA ...           en  \n",
       "15  I had scheduled a full TIME payment in their o...           en  \n",
       "18  Never called or received any written notice of...           en  \n",
       "20  The use of the Gap Visa card issued by GE Capi...           en  \n",
       "22  The mortgage loan was transferred from XXXX to...           en  "
      ]
     },
     "execution_count": 35,
     "metadata": {},
     "output_type": "execute_result"
    }
   ],
   "source": [
    "df.head(10)"
   ]
  },
  {
   "cell_type": "code",
   "execution_count": 37,
   "metadata": {},
   "outputs": [],
   "source": [
    "gle = LabelEncoder()\n",
    "genre_labels = gle.fit_transform(df['Complaint-reason'])\n",
    "genre_mappings = {index: label for index, label in \n",
    "                  enumerate(gle.classes_)}\n",
    "inv_map = {v: k for k, v in genre_mappings.iteritems()}"
   ]
  },
  {
   "cell_type": "code",
   "execution_count": 38,
   "metadata": {},
   "outputs": [],
   "source": [
    "df['Complaint-reason'] = df['Complaint-reason'].map(inv_map) "
   ]
  },
  {
   "cell_type": "code",
   "execution_count": 39,
   "metadata": {},
   "outputs": [],
   "source": [
    "df_test['Complaint-reason'] = df_test['Complaint-reason'].map(inv_map) "
   ]
  },
  {
   "cell_type": "code",
   "execution_count": 40,
   "metadata": {},
   "outputs": [
    {
     "data": {
      "text/html": [
       "<div>\n",
       "<style scoped>\n",
       "    .dataframe tbody tr th:only-of-type {\n",
       "        vertical-align: middle;\n",
       "    }\n",
       "\n",
       "    .dataframe tbody tr th {\n",
       "        vertical-align: top;\n",
       "    }\n",
       "\n",
       "    .dataframe thead th {\n",
       "        text-align: right;\n",
       "    }\n",
       "</style>\n",
       "<table border=\"1\" class=\"dataframe\">\n",
       "  <thead>\n",
       "    <tr style=\"text-align: right;\">\n",
       "      <th></th>\n",
       "      <th>Complaint-ID</th>\n",
       "      <th>Date-received</th>\n",
       "      <th>Transaction-Type</th>\n",
       "      <th>Complaint-reason</th>\n",
       "      <th>Company-response</th>\n",
       "      <th>Date-sent-to-company</th>\n",
       "      <th>Complaint-Status</th>\n",
       "      <th>Consumer-disputes</th>\n",
       "      <th>Consumer-complaint-summary</th>\n",
       "      <th>Summary-lang</th>\n",
       "    </tr>\n",
       "  </thead>\n",
       "  <tbody>\n",
       "    <tr>\n",
       "      <th>3</th>\n",
       "      <td>Tr-4</td>\n",
       "      <td>11/12/2016</td>\n",
       "      <td>Debt collection</td>\n",
       "      <td>35</td>\n",
       "      <td>Company believes it acted appropriately as aut...</td>\n",
       "      <td>11/12/2016</td>\n",
       "      <td>Closed with explanation</td>\n",
       "      <td>No</td>\n",
       "      <td>The loan was paid in XXXX XXXX In XXXX  years ...</td>\n",
       "      <td>en</td>\n",
       "    </tr>\n",
       "    <tr>\n",
       "      <th>5</th>\n",
       "      <td>Tr-6</td>\n",
       "      <td>8/2/2016</td>\n",
       "      <td>Mortgage</td>\n",
       "      <td>73</td>\n",
       "      <td>NaN</td>\n",
       "      <td>8/3/2016</td>\n",
       "      <td>Closed with explanation</td>\n",
       "      <td>Yes</td>\n",
       "      <td>The owner of my original mortgage filed for ba...</td>\n",
       "      <td>en</td>\n",
       "    </tr>\n",
       "    <tr>\n",
       "      <th>10</th>\n",
       "      <td>Tr-11</td>\n",
       "      <td>1/10/2016</td>\n",
       "      <td>Mortgage</td>\n",
       "      <td>75</td>\n",
       "      <td>NaN</td>\n",
       "      <td>1/15/2016</td>\n",
       "      <td>Closed with explanation</td>\n",
       "      <td>No</td>\n",
       "      <td>My mortgage provider United Wholesale Mortgage...</td>\n",
       "      <td>en</td>\n",
       "    </tr>\n",
       "    <tr>\n",
       "      <th>11</th>\n",
       "      <td>Tr-12</td>\n",
       "      <td>3/5/2016</td>\n",
       "      <td>Credit card</td>\n",
       "      <td>37</td>\n",
       "      <td>NaN</td>\n",
       "      <td>3/5/2016</td>\n",
       "      <td>Closed with explanation</td>\n",
       "      <td>No</td>\n",
       "      <td>My boyfriend and I bought a XXXX sofa and we h...</td>\n",
       "      <td>en</td>\n",
       "    </tr>\n",
       "    <tr>\n",
       "      <th>13</th>\n",
       "      <td>Tr-14</td>\n",
       "      <td>9/24/2015</td>\n",
       "      <td>Credit reporting</td>\n",
       "      <td>68</td>\n",
       "      <td>Company chooses not to provide a public response</td>\n",
       "      <td>9/24/2015</td>\n",
       "      <td>Closed with explanation</td>\n",
       "      <td>No</td>\n",
       "      <td>Both accounts below are settled and closed You...</td>\n",
       "      <td>en</td>\n",
       "    </tr>\n",
       "    <tr>\n",
       "      <th>14</th>\n",
       "      <td>Tr-15</td>\n",
       "      <td>12/28/2016</td>\n",
       "      <td>Consumer Loan</td>\n",
       "      <td>81</td>\n",
       "      <td>NaN</td>\n",
       "      <td>12/28/2016</td>\n",
       "      <td>Closed</td>\n",
       "      <td>No</td>\n",
       "      <td>In XX  XX  XXXX we open a lease with XXXX DBA ...</td>\n",
       "      <td>en</td>\n",
       "    </tr>\n",
       "    <tr>\n",
       "      <th>15</th>\n",
       "      <td>Tr-16</td>\n",
       "      <td>8/17/2017</td>\n",
       "      <td>Credit card or prepaid card</td>\n",
       "      <td>102</td>\n",
       "      <td>Company has responded to the consumer and the ...</td>\n",
       "      <td>8/17/2017</td>\n",
       "      <td>Closed with monetary relief</td>\n",
       "      <td>NaN</td>\n",
       "      <td>I had scheduled a full TIME payment in their o...</td>\n",
       "      <td>en</td>\n",
       "    </tr>\n",
       "    <tr>\n",
       "      <th>18</th>\n",
       "      <td>Tr-19</td>\n",
       "      <td>3/2/2017</td>\n",
       "      <td>Debt collection</td>\n",
       "      <td>50</td>\n",
       "      <td>Company disputes the facts presented in the co...</td>\n",
       "      <td>3/2/2017</td>\n",
       "      <td>Closed with explanation</td>\n",
       "      <td>No</td>\n",
       "      <td>Never called or received any written notice of...</td>\n",
       "      <td>en</td>\n",
       "    </tr>\n",
       "    <tr>\n",
       "      <th>20</th>\n",
       "      <td>Tr-21</td>\n",
       "      <td>2/18/2016</td>\n",
       "      <td>Credit card</td>\n",
       "      <td>44</td>\n",
       "      <td>NaN</td>\n",
       "      <td>2/18/2016</td>\n",
       "      <td>Closed with explanation</td>\n",
       "      <td>No</td>\n",
       "      <td>The use of the Gap Visa card issued by GE Capi...</td>\n",
       "      <td>en</td>\n",
       "    </tr>\n",
       "    <tr>\n",
       "      <th>22</th>\n",
       "      <td>Tr-23</td>\n",
       "      <td>4/28/2016</td>\n",
       "      <td>Mortgage</td>\n",
       "      <td>75</td>\n",
       "      <td>NaN</td>\n",
       "      <td>4/28/2016</td>\n",
       "      <td>Closed with explanation</td>\n",
       "      <td>No</td>\n",
       "      <td>The mortgage loan was transferred from XXXX to...</td>\n",
       "      <td>en</td>\n",
       "    </tr>\n",
       "  </tbody>\n",
       "</table>\n",
       "</div>"
      ],
      "text/plain": [
       "   Complaint-ID Date-received             Transaction-Type  Complaint-reason  \\\n",
       "3          Tr-4    11/12/2016              Debt collection                35   \n",
       "5          Tr-6      8/2/2016                     Mortgage                73   \n",
       "10        Tr-11     1/10/2016                     Mortgage                75   \n",
       "11        Tr-12      3/5/2016                  Credit card                37   \n",
       "13        Tr-14     9/24/2015             Credit reporting                68   \n",
       "14        Tr-15    12/28/2016                Consumer Loan                81   \n",
       "15        Tr-16     8/17/2017  Credit card or prepaid card               102   \n",
       "18        Tr-19      3/2/2017              Debt collection                50   \n",
       "20        Tr-21     2/18/2016                  Credit card                44   \n",
       "22        Tr-23     4/28/2016                     Mortgage                75   \n",
       "\n",
       "                                     Company-response Date-sent-to-company  \\\n",
       "3   Company believes it acted appropriately as aut...           11/12/2016   \n",
       "5                                                 NaN             8/3/2016   \n",
       "10                                                NaN            1/15/2016   \n",
       "11                                                NaN             3/5/2016   \n",
       "13   Company chooses not to provide a public response            9/24/2015   \n",
       "14                                                NaN           12/28/2016   \n",
       "15  Company has responded to the consumer and the ...            8/17/2017   \n",
       "18  Company disputes the facts presented in the co...             3/2/2017   \n",
       "20                                                NaN            2/18/2016   \n",
       "22                                                NaN            4/28/2016   \n",
       "\n",
       "               Complaint-Status Consumer-disputes  \\\n",
       "3       Closed with explanation                No   \n",
       "5       Closed with explanation               Yes   \n",
       "10      Closed with explanation                No   \n",
       "11      Closed with explanation                No   \n",
       "13      Closed with explanation                No   \n",
       "14                       Closed                No   \n",
       "15  Closed with monetary relief               NaN   \n",
       "18      Closed with explanation                No   \n",
       "20      Closed with explanation                No   \n",
       "22      Closed with explanation                No   \n",
       "\n",
       "                           Consumer-complaint-summary Summary-lang  \n",
       "3   The loan was paid in XXXX XXXX In XXXX  years ...           en  \n",
       "5   The owner of my original mortgage filed for ba...           en  \n",
       "10  My mortgage provider United Wholesale Mortgage...           en  \n",
       "11  My boyfriend and I bought a XXXX sofa and we h...           en  \n",
       "13  Both accounts below are settled and closed You...           en  \n",
       "14  In XX  XX  XXXX we open a lease with XXXX DBA ...           en  \n",
       "15  I had scheduled a full TIME payment in their o...           en  \n",
       "18  Never called or received any written notice of...           en  \n",
       "20  The use of the Gap Visa card issued by GE Capi...           en  \n",
       "22  The mortgage loan was transferred from XXXX to...           en  "
      ]
     },
     "execution_count": 40,
     "metadata": {},
     "output_type": "execute_result"
    }
   ],
   "source": [
    "df.head(10)"
   ]
  },
  {
   "cell_type": "code",
   "execution_count": 4,
   "metadata": {},
   "outputs": [],
   "source": [
    "for i in range(0,len(df_test)):\n",
    "    text = df_test['Consumer-complaint-summary'][i]\n",
    "    uni_string = unicode(text,\"utf-8\")\n",
    "    remove_acc_string = remove_accented_chars(uni_string)\n",
    "    remove_spe_string = remove_special_characters(remove_acc_string)\n",
    "    df_test['Consumer-complaint-summary'][i] = remove_spe_string"
   ]
  },
  {
   "cell_type": "code",
   "execution_count": 7,
   "metadata": {},
   "outputs": [],
   "source": [
    "ans_concat = pd.read_csv('/Users/rahulsharma/Complaint--Status--Tracking.csv')"
   ]
  },
  {
   "cell_type": "code",
   "execution_count": 8,
   "metadata": {},
   "outputs": [],
   "source": [
    "df_test[\"Complaint-Status\"] = ans_concat[\"Complaint-Status\"]"
   ]
  },
  {
   "cell_type": "code",
   "execution_count": 9,
   "metadata": {},
   "outputs": [],
   "source": [
    "ori_df = pd.read_csv('/Users/rahulsharma/Consumer-Complaint-Summary-With-Lang.csv')"
   ]
  },
  {
   "cell_type": "code",
   "execution_count": 10,
   "metadata": {},
   "outputs": [],
   "source": [
    "df = ori_df"
   ]
  },
  {
   "cell_type": "code",
   "execution_count": 11,
   "metadata": {},
   "outputs": [],
   "source": [
    "df.drop(df[df['Summary-lang']!=\"en\"].index, inplace=True)"
   ]
  },
  {
   "cell_type": "code",
   "execution_count": 12,
   "metadata": {},
   "outputs": [],
   "source": [
    "gle = LabelEncoder()\n",
    "genre_labels = gle.fit_transform(df['Complaint-reason'])\n",
    "genre_mappings = {index: label for index, label in \n",
    "                  enumerate(gle.classes_)}\n",
    "inv_map = {v: k for k, v in genre_mappings.iteritems()}"
   ]
  },
  {
   "cell_type": "code",
   "execution_count": 13,
   "metadata": {},
   "outputs": [],
   "source": [
    "df['Complaint-reason'] = df['Complaint-reason'].map(inv_map) "
   ]
  },
  {
   "cell_type": "code",
   "execution_count": 14,
   "metadata": {},
   "outputs": [],
   "source": [
    "df_test['Complaint-reason'] = df_test['Complaint-reason'].map(inv_map) "
   ]
  },
  {
   "cell_type": "code",
   "execution_count": 15,
   "metadata": {},
   "outputs": [],
   "source": [
    "tran_array = df[\"Transaction-Type\"].unique()"
   ]
  },
  {
   "cell_type": "code",
   "execution_count": 16,
   "metadata": {},
   "outputs": [
    {
     "data": {
      "text/plain": [
       "array(['Debt collection', 'Mortgage', 'Credit card', 'Credit reporting',\n",
       "       'Consumer Loan', 'Credit card or prepaid card',\n",
       "       'Credit reporting, credit repair services, or other personal consumer reports',\n",
       "       'Student loan', 'Bank account or service', 'Vehicle loan or lease',\n",
       "       'Payday loan, title loan, or personal loan',\n",
       "       'Money transfer, virtual currency, or money service',\n",
       "       'Prepaid card', 'Payday loan', 'Checking or savings account',\n",
       "       'Other financial service', 'Money transfers', 'Virtual currency'],\n",
       "      dtype=object)"
      ]
     },
     "execution_count": 16,
     "metadata": {},
     "output_type": "execute_result"
    }
   ],
   "source": [
    "tran_array"
   ]
  },
  {
   "cell_type": "code",
   "execution_count": 17,
   "metadata": {},
   "outputs": [],
   "source": [
    "gle = LabelEncoder()\n",
    "genre_labels = gle.fit_transform(df['Complaint-Status'])\n",
    "genre_mappings = {index: label for index, label in \n",
    "                  enumerate(gle.classes_)}\n",
    "inv_map = {v: k for k, v in genre_mappings.iteritems()}"
   ]
  },
  {
   "cell_type": "code",
   "execution_count": 18,
   "metadata": {},
   "outputs": [],
   "source": [
    "df['Complaint-Status'] = df['Complaint-Status'].map(inv_map) "
   ]
  },
  {
   "cell_type": "code",
   "execution_count": 19,
   "metadata": {},
   "outputs": [],
   "source": [
    "df_test['Complaint-Status'] = df_test['Complaint-Status'].map(inv_map) "
   ]
  },
  {
   "cell_type": "code",
   "execution_count": 20,
   "metadata": {},
   "outputs": [
    {
     "data": {
      "text/html": [
       "<div>\n",
       "<style scoped>\n",
       "    .dataframe tbody tr th:only-of-type {\n",
       "        vertical-align: middle;\n",
       "    }\n",
       "\n",
       "    .dataframe tbody tr th {\n",
       "        vertical-align: top;\n",
       "    }\n",
       "\n",
       "    .dataframe thead th {\n",
       "        text-align: right;\n",
       "    }\n",
       "</style>\n",
       "<table border=\"1\" class=\"dataframe\">\n",
       "  <thead>\n",
       "    <tr style=\"text-align: right;\">\n",
       "      <th></th>\n",
       "      <th>Unnamed: 0</th>\n",
       "      <th>Complaint-ID</th>\n",
       "      <th>Date-received</th>\n",
       "      <th>Transaction-Type</th>\n",
       "      <th>Complaint-reason</th>\n",
       "      <th>Company-response</th>\n",
       "      <th>Date-sent-to-company</th>\n",
       "      <th>Complaint-Status</th>\n",
       "      <th>Consumer-disputes</th>\n",
       "      <th>Consumer-complaint-summary</th>\n",
       "      <th>Summary-lang</th>\n",
       "    </tr>\n",
       "  </thead>\n",
       "  <tbody>\n",
       "    <tr>\n",
       "      <th>3</th>\n",
       "      <td>3</td>\n",
       "      <td>Tr-4</td>\n",
       "      <td>11/12/2016</td>\n",
       "      <td>Debt collection</td>\n",
       "      <td>35</td>\n",
       "      <td>Company believes it acted appropriately as aut...</td>\n",
       "      <td>11/12/2016</td>\n",
       "      <td>1</td>\n",
       "      <td>No</td>\n",
       "      <td>The loan was paid in XXXX XXXX In XXXX  years ...</td>\n",
       "      <td>en</td>\n",
       "    </tr>\n",
       "    <tr>\n",
       "      <th>5</th>\n",
       "      <td>5</td>\n",
       "      <td>Tr-6</td>\n",
       "      <td>8/2/2016</td>\n",
       "      <td>Mortgage</td>\n",
       "      <td>73</td>\n",
       "      <td>NaN</td>\n",
       "      <td>8/3/2016</td>\n",
       "      <td>1</td>\n",
       "      <td>Yes</td>\n",
       "      <td>The owner of my original mortgage filed for ba...</td>\n",
       "      <td>en</td>\n",
       "    </tr>\n",
       "    <tr>\n",
       "      <th>10</th>\n",
       "      <td>10</td>\n",
       "      <td>Tr-11</td>\n",
       "      <td>1/10/2016</td>\n",
       "      <td>Mortgage</td>\n",
       "      <td>75</td>\n",
       "      <td>NaN</td>\n",
       "      <td>1/15/2016</td>\n",
       "      <td>1</td>\n",
       "      <td>No</td>\n",
       "      <td>My mortgage provider United Wholesale Mortgage...</td>\n",
       "      <td>en</td>\n",
       "    </tr>\n",
       "    <tr>\n",
       "      <th>11</th>\n",
       "      <td>11</td>\n",
       "      <td>Tr-12</td>\n",
       "      <td>3/5/2016</td>\n",
       "      <td>Credit card</td>\n",
       "      <td>37</td>\n",
       "      <td>NaN</td>\n",
       "      <td>3/5/2016</td>\n",
       "      <td>1</td>\n",
       "      <td>No</td>\n",
       "      <td>My boyfriend and I bought a XXXX sofa and we h...</td>\n",
       "      <td>en</td>\n",
       "    </tr>\n",
       "    <tr>\n",
       "      <th>13</th>\n",
       "      <td>13</td>\n",
       "      <td>Tr-14</td>\n",
       "      <td>9/24/2015</td>\n",
       "      <td>Credit reporting</td>\n",
       "      <td>68</td>\n",
       "      <td>Company chooses not to provide a public response</td>\n",
       "      <td>9/24/2015</td>\n",
       "      <td>1</td>\n",
       "      <td>No</td>\n",
       "      <td>Both accounts below are settled and closed You...</td>\n",
       "      <td>en</td>\n",
       "    </tr>\n",
       "  </tbody>\n",
       "</table>\n",
       "</div>"
      ],
      "text/plain": [
       "    Unnamed: 0 Complaint-ID Date-received  Transaction-Type  Complaint-reason  \\\n",
       "3            3         Tr-4    11/12/2016   Debt collection                35   \n",
       "5            5         Tr-6      8/2/2016          Mortgage                73   \n",
       "10          10        Tr-11     1/10/2016          Mortgage                75   \n",
       "11          11        Tr-12      3/5/2016       Credit card                37   \n",
       "13          13        Tr-14     9/24/2015  Credit reporting                68   \n",
       "\n",
       "                                     Company-response Date-sent-to-company  \\\n",
       "3   Company believes it acted appropriately as aut...           11/12/2016   \n",
       "5                                                 NaN             8/3/2016   \n",
       "10                                                NaN            1/15/2016   \n",
       "11                                                NaN             3/5/2016   \n",
       "13   Company chooses not to provide a public response            9/24/2015   \n",
       "\n",
       "    Complaint-Status Consumer-disputes  \\\n",
       "3                  1                No   \n",
       "5                  1               Yes   \n",
       "10                 1                No   \n",
       "11                 1                No   \n",
       "13                 1                No   \n",
       "\n",
       "                           Consumer-complaint-summary Summary-lang  \n",
       "3   The loan was paid in XXXX XXXX In XXXX  years ...           en  \n",
       "5   The owner of my original mortgage filed for ba...           en  \n",
       "10  My mortgage provider United Wholesale Mortgage...           en  \n",
       "11  My boyfriend and I bought a XXXX sofa and we h...           en  \n",
       "13  Both accounts below are settled and closed You...           en  "
      ]
     },
     "execution_count": 20,
     "metadata": {},
     "output_type": "execute_result"
    }
   ],
   "source": [
    "df.head()"
   ]
  },
  {
   "cell_type": "code",
   "execution_count": 21,
   "metadata": {},
   "outputs": [],
   "source": [
    "genre_labels = gle.fit_transform(df['Company-response'])\n",
    "genre_mappings = {index: label for index, label in \n",
    "                  enumerate(gle.classes_)}\n",
    "inv_map = {v: k for k, v in genre_mappings.iteritems()}"
   ]
  },
  {
   "cell_type": "code",
   "execution_count": 22,
   "metadata": {},
   "outputs": [
    {
     "data": {
      "text/plain": [
       "{nan: 0,\n",
       " 'Company believes complaint caused principally by actions of third party outside the control or direction of the company': 1,\n",
       " 'Company believes complaint is the result of an isolated error': 2,\n",
       " 'Company believes complaint relates to a discontinued policy or procedure': 3,\n",
       " 'Company believes complaint represents an opportunity for improvement to better serve consumers': 4,\n",
       " 'Company believes it acted appropriately as authorized by contract or law': 5,\n",
       " 'Company believes the complaint is the result of a misunderstanding': 6,\n",
       " \"Company can't verify or dispute the facts in the complaint\": 7,\n",
       " 'Company chooses not to provide a public response': 8,\n",
       " 'Company disputes the facts presented in the complaint': 9,\n",
       " 'Company has responded to the consumer and the CFPB and chooses not to provide a public response': 10}"
      ]
     },
     "execution_count": 22,
     "metadata": {},
     "output_type": "execute_result"
    }
   ],
   "source": [
    "inv_map"
   ]
  },
  {
   "cell_type": "code",
   "execution_count": 23,
   "metadata": {},
   "outputs": [],
   "source": [
    "inv_map = {'Nan': None,\n",
    " 'Company believes complaint caused principally by actions of third party outside the control or direction of the company': 1,\n",
    " 'Company believes complaint is the result of an isolated error': 2,\n",
    " 'Company believes complaint relates to a discontinued policy or procedure': 3,\n",
    " 'Company believes complaint represents an opportunity for improvement to better serve consumers': 4,\n",
    " 'Company believes it acted appropriately as authorized by contract or law': 5,\n",
    " 'Company believes the complaint is the result of a misunderstanding': 6,\n",
    " \"Company can't verify or dispute the facts in the complaint\": 7,\n",
    " 'Company chooses not to provide a public response': 8,\n",
    " 'Company disputes the facts presented in the complaint': 9,\n",
    " 'Company has responded to the consumer and the CFPB and chooses not to provide a public response': 10}"
   ]
  },
  {
   "cell_type": "code",
   "execution_count": 24,
   "metadata": {},
   "outputs": [],
   "source": [
    "df['Company-response'] = df['Company-response'].map(inv_map)"
   ]
  },
  {
   "cell_type": "code",
   "execution_count": 25,
   "metadata": {},
   "outputs": [],
   "source": [
    "df_test['Company-response'] = df_test['Company-response'].map(inv_map)"
   ]
  },
  {
   "cell_type": "code",
   "execution_count": 26,
   "metadata": {},
   "outputs": [
    {
     "data": {
      "text/plain": [
       "8.0"
      ]
     },
     "execution_count": 26,
     "metadata": {},
     "output_type": "execute_result"
    }
   ],
   "source": [
    "mean_value= math.floor(df['Company-response'].mean())\n",
    "mean_value"
   ]
  },
  {
   "cell_type": "code",
   "execution_count": 27,
   "metadata": {},
   "outputs": [],
   "source": [
    "df['Company-response']=df['Company-response'].fillna(mean_value)"
   ]
  },
  {
   "cell_type": "code",
   "execution_count": 28,
   "metadata": {},
   "outputs": [
    {
     "data": {
      "text/plain": [
       "8.0"
      ]
     },
     "execution_count": 28,
     "metadata": {},
     "output_type": "execute_result"
    }
   ],
   "source": [
    "mean_value= math.floor(df_test['Company-response'].mean())\n",
    "mean_value"
   ]
  },
  {
   "cell_type": "code",
   "execution_count": 29,
   "metadata": {},
   "outputs": [],
   "source": [
    "df_test['Company-response']=df_test['Company-response'].fillna(mean_value)"
   ]
  },
  {
   "cell_type": "code",
   "execution_count": 30,
   "metadata": {},
   "outputs": [],
   "source": [
    "genre_labels = gle.fit_transform(df['Consumer-disputes'])\n",
    "genre_mappings = {index: label for index, label in \n",
    "                  enumerate(gle.classes_)}\n",
    "inv_map = {v: k for k, v in genre_mappings.iteritems()}"
   ]
  },
  {
   "cell_type": "code",
   "execution_count": 31,
   "metadata": {},
   "outputs": [
    {
     "data": {
      "text/plain": [
       "{nan: 0, 'No': 1, 'Yes': 2}"
      ]
     },
     "execution_count": 31,
     "metadata": {},
     "output_type": "execute_result"
    }
   ],
   "source": [
    "inv_map"
   ]
  },
  {
   "cell_type": "code",
   "execution_count": 32,
   "metadata": {},
   "outputs": [],
   "source": [
    "inv_map = {'Nan': None, 'No': 1, 'Yes': 2}"
   ]
  },
  {
   "cell_type": "code",
   "execution_count": 33,
   "metadata": {},
   "outputs": [],
   "source": [
    "df['Consumer-disputes'] = df['Consumer-disputes'].map(inv_map)"
   ]
  },
  {
   "cell_type": "code",
   "execution_count": 34,
   "metadata": {},
   "outputs": [],
   "source": [
    "df_test['Consumer-disputes'] = df_test['Consumer-disputes'].map(inv_map)"
   ]
  },
  {
   "cell_type": "code",
   "execution_count": 35,
   "metadata": {},
   "outputs": [
    {
     "data": {
      "text/plain": [
       "1.0"
      ]
     },
     "execution_count": 35,
     "metadata": {},
     "output_type": "execute_result"
    }
   ],
   "source": [
    "mean_value= math.floor(df['Consumer-disputes'].mean())\n",
    "mean_value"
   ]
  },
  {
   "cell_type": "code",
   "execution_count": 36,
   "metadata": {},
   "outputs": [],
   "source": [
    "df['Consumer-disputes']=df['Consumer-disputes'].fillna(mean_value)"
   ]
  },
  {
   "cell_type": "code",
   "execution_count": 37,
   "metadata": {},
   "outputs": [
    {
     "data": {
      "text/plain": [
       "1.0"
      ]
     },
     "execution_count": 37,
     "metadata": {},
     "output_type": "execute_result"
    }
   ],
   "source": [
    "mean_value= math.floor(df_test['Consumer-disputes'].mean())\n",
    "mean_value"
   ]
  },
  {
   "cell_type": "code",
   "execution_count": 38,
   "metadata": {},
   "outputs": [],
   "source": [
    "df_test['Consumer-disputes']=df_test['Consumer-disputes'].fillna(mean_value)"
   ]
  },
  {
   "cell_type": "code",
   "execution_count": 39,
   "metadata": {},
   "outputs": [
    {
     "data": {
      "text/html": [
       "<div>\n",
       "<style scoped>\n",
       "    .dataframe tbody tr th:only-of-type {\n",
       "        vertical-align: middle;\n",
       "    }\n",
       "\n",
       "    .dataframe tbody tr th {\n",
       "        vertical-align: top;\n",
       "    }\n",
       "\n",
       "    .dataframe thead th {\n",
       "        text-align: right;\n",
       "    }\n",
       "</style>\n",
       "<table border=\"1\" class=\"dataframe\">\n",
       "  <thead>\n",
       "    <tr style=\"text-align: right;\">\n",
       "      <th></th>\n",
       "      <th>Unnamed: 0</th>\n",
       "      <th>Complaint-ID</th>\n",
       "      <th>Date-received</th>\n",
       "      <th>Transaction-Type</th>\n",
       "      <th>Complaint-reason</th>\n",
       "      <th>Company-response</th>\n",
       "      <th>Date-sent-to-company</th>\n",
       "      <th>Complaint-Status</th>\n",
       "      <th>Consumer-disputes</th>\n",
       "      <th>Consumer-complaint-summary</th>\n",
       "      <th>Summary-lang</th>\n",
       "    </tr>\n",
       "  </thead>\n",
       "  <tbody>\n",
       "    <tr>\n",
       "      <th>3</th>\n",
       "      <td>3</td>\n",
       "      <td>Tr-4</td>\n",
       "      <td>11/12/2016</td>\n",
       "      <td>Debt collection</td>\n",
       "      <td>35</td>\n",
       "      <td>5.0</td>\n",
       "      <td>11/12/2016</td>\n",
       "      <td>1</td>\n",
       "      <td>1.0</td>\n",
       "      <td>The loan was paid in XXXX XXXX In XXXX  years ...</td>\n",
       "      <td>en</td>\n",
       "    </tr>\n",
       "    <tr>\n",
       "      <th>5</th>\n",
       "      <td>5</td>\n",
       "      <td>Tr-6</td>\n",
       "      <td>8/2/2016</td>\n",
       "      <td>Mortgage</td>\n",
       "      <td>73</td>\n",
       "      <td>8.0</td>\n",
       "      <td>8/3/2016</td>\n",
       "      <td>1</td>\n",
       "      <td>2.0</td>\n",
       "      <td>The owner of my original mortgage filed for ba...</td>\n",
       "      <td>en</td>\n",
       "    </tr>\n",
       "    <tr>\n",
       "      <th>10</th>\n",
       "      <td>10</td>\n",
       "      <td>Tr-11</td>\n",
       "      <td>1/10/2016</td>\n",
       "      <td>Mortgage</td>\n",
       "      <td>75</td>\n",
       "      <td>8.0</td>\n",
       "      <td>1/15/2016</td>\n",
       "      <td>1</td>\n",
       "      <td>1.0</td>\n",
       "      <td>My mortgage provider United Wholesale Mortgage...</td>\n",
       "      <td>en</td>\n",
       "    </tr>\n",
       "    <tr>\n",
       "      <th>11</th>\n",
       "      <td>11</td>\n",
       "      <td>Tr-12</td>\n",
       "      <td>3/5/2016</td>\n",
       "      <td>Credit card</td>\n",
       "      <td>37</td>\n",
       "      <td>8.0</td>\n",
       "      <td>3/5/2016</td>\n",
       "      <td>1</td>\n",
       "      <td>1.0</td>\n",
       "      <td>My boyfriend and I bought a XXXX sofa and we h...</td>\n",
       "      <td>en</td>\n",
       "    </tr>\n",
       "    <tr>\n",
       "      <th>13</th>\n",
       "      <td>13</td>\n",
       "      <td>Tr-14</td>\n",
       "      <td>9/24/2015</td>\n",
       "      <td>Credit reporting</td>\n",
       "      <td>68</td>\n",
       "      <td>8.0</td>\n",
       "      <td>9/24/2015</td>\n",
       "      <td>1</td>\n",
       "      <td>1.0</td>\n",
       "      <td>Both accounts below are settled and closed You...</td>\n",
       "      <td>en</td>\n",
       "    </tr>\n",
       "  </tbody>\n",
       "</table>\n",
       "</div>"
      ],
      "text/plain": [
       "    Unnamed: 0 Complaint-ID Date-received  Transaction-Type  Complaint-reason  \\\n",
       "3            3         Tr-4    11/12/2016   Debt collection                35   \n",
       "5            5         Tr-6      8/2/2016          Mortgage                73   \n",
       "10          10        Tr-11     1/10/2016          Mortgage                75   \n",
       "11          11        Tr-12      3/5/2016       Credit card                37   \n",
       "13          13        Tr-14     9/24/2015  Credit reporting                68   \n",
       "\n",
       "    Company-response Date-sent-to-company  Complaint-Status  \\\n",
       "3                5.0           11/12/2016                 1   \n",
       "5                8.0             8/3/2016                 1   \n",
       "10               8.0            1/15/2016                 1   \n",
       "11               8.0             3/5/2016                 1   \n",
       "13               8.0            9/24/2015                 1   \n",
       "\n",
       "    Consumer-disputes                         Consumer-complaint-summary  \\\n",
       "3                 1.0  The loan was paid in XXXX XXXX In XXXX  years ...   \n",
       "5                 2.0  The owner of my original mortgage filed for ba...   \n",
       "10                1.0  My mortgage provider United Wholesale Mortgage...   \n",
       "11                1.0  My boyfriend and I bought a XXXX sofa and we h...   \n",
       "13                1.0  Both accounts below are settled and closed You...   \n",
       "\n",
       "   Summary-lang  \n",
       "3            en  \n",
       "5            en  \n",
       "10           en  \n",
       "11           en  \n",
       "13           en  "
      ]
     },
     "execution_count": 39,
     "metadata": {},
     "output_type": "execute_result"
    }
   ],
   "source": [
    "df.head()"
   ]
  },
  {
   "cell_type": "code",
   "execution_count": 72,
   "metadata": {},
   "outputs": [
    {
     "ename": "TypeError",
     "evalue": "unsupported operand type(s) for -: 'str' and 'str'",
     "output_type": "error",
     "traceback": [
      "\u001b[0;31m---------------------------------------------------------------------------\u001b[0m",
      "\u001b[0;31mTypeError\u001b[0m                                 Traceback (most recent call last)",
      "\u001b[0;32m<ipython-input-72-f053fe9da9c2>\u001b[0m in \u001b[0;36m<module>\u001b[0;34m()\u001b[0m\n\u001b[0;32m----> 1\u001b[0;31m \u001b[0mdf\u001b[0m\u001b[0;34m[\u001b[0m\u001b[0;34m'Days-Taken'\u001b[0m\u001b[0;34m]\u001b[0m \u001b[0;34m=\u001b[0m \u001b[0;34m(\u001b[0m\u001b[0mdf\u001b[0m\u001b[0;34m[\u001b[0m\u001b[0;34m'Date-sent-to-company'\u001b[0m\u001b[0;34m]\u001b[0m \u001b[0;34m-\u001b[0m \u001b[0mdf\u001b[0m\u001b[0;34m[\u001b[0m\u001b[0;34m'Date-received'\u001b[0m\u001b[0;34m]\u001b[0m\u001b[0;34m)\u001b[0m\u001b[0;34m\u001b[0m\u001b[0m\n\u001b[0m",
      "\u001b[0;32m/Users/rahulsharma/anaconda2/lib/python2.7/site-packages/pandas/core/ops.pyc\u001b[0m in \u001b[0;36mwrapper\u001b[0;34m(left, right, name, na_op)\u001b[0m\n\u001b[1;32m    737\u001b[0m                 \u001b[0mlvalues\u001b[0m \u001b[0;34m=\u001b[0m \u001b[0mlvalues\u001b[0m\u001b[0;34m.\u001b[0m\u001b[0mvalues\u001b[0m\u001b[0;34m\u001b[0m\u001b[0m\n\u001b[1;32m    738\u001b[0m \u001b[0;34m\u001b[0m\u001b[0m\n\u001b[0;32m--> 739\u001b[0;31m         \u001b[0mresult\u001b[0m \u001b[0;34m=\u001b[0m \u001b[0mwrap_results\u001b[0m\u001b[0;34m(\u001b[0m\u001b[0msafe_na_op\u001b[0m\u001b[0;34m(\u001b[0m\u001b[0mlvalues\u001b[0m\u001b[0;34m,\u001b[0m \u001b[0mrvalues\u001b[0m\u001b[0;34m)\u001b[0m\u001b[0;34m)\u001b[0m\u001b[0;34m\u001b[0m\u001b[0m\n\u001b[0m\u001b[1;32m    740\u001b[0m         return construct_result(\n\u001b[1;32m    741\u001b[0m             \u001b[0mleft\u001b[0m\u001b[0;34m,\u001b[0m\u001b[0;34m\u001b[0m\u001b[0m\n",
      "\u001b[0;32m/Users/rahulsharma/anaconda2/lib/python2.7/site-packages/pandas/core/ops.pyc\u001b[0m in \u001b[0;36msafe_na_op\u001b[0;34m(lvalues, rvalues)\u001b[0m\n\u001b[1;32m    708\u001b[0m                 \u001b[0;32mif\u001b[0m \u001b[0mis_object_dtype\u001b[0m\u001b[0;34m(\u001b[0m\u001b[0mlvalues\u001b[0m\u001b[0;34m)\u001b[0m\u001b[0;34m:\u001b[0m\u001b[0;34m\u001b[0m\u001b[0m\n\u001b[1;32m    709\u001b[0m                     return libalgos.arrmap_object(lvalues,\n\u001b[0;32m--> 710\u001b[0;31m                                                   lambda x: op(x, rvalues))\n\u001b[0m\u001b[1;32m    711\u001b[0m             \u001b[0;32mraise\u001b[0m\u001b[0;34m\u001b[0m\u001b[0m\n\u001b[1;32m    712\u001b[0m \u001b[0;34m\u001b[0m\u001b[0m\n",
      "\u001b[0;32mpandas/_libs/algos_common_helper.pxi\u001b[0m in \u001b[0;36mpandas._libs.algos.arrmap_object\u001b[0;34m()\u001b[0m\n",
      "\u001b[0;32m/Users/rahulsharma/anaconda2/lib/python2.7/site-packages/pandas/core/ops.pyc\u001b[0m in \u001b[0;36m<lambda>\u001b[0;34m(x)\u001b[0m\n\u001b[1;32m    708\u001b[0m                 \u001b[0;32mif\u001b[0m \u001b[0mis_object_dtype\u001b[0m\u001b[0;34m(\u001b[0m\u001b[0mlvalues\u001b[0m\u001b[0;34m)\u001b[0m\u001b[0;34m:\u001b[0m\u001b[0;34m\u001b[0m\u001b[0m\n\u001b[1;32m    709\u001b[0m                     return libalgos.arrmap_object(lvalues,\n\u001b[0;32m--> 710\u001b[0;31m                                                   lambda x: op(x, rvalues))\n\u001b[0m\u001b[1;32m    711\u001b[0m             \u001b[0;32mraise\u001b[0m\u001b[0;34m\u001b[0m\u001b[0m\n\u001b[1;32m    712\u001b[0m \u001b[0;34m\u001b[0m\u001b[0m\n",
      "\u001b[0;31mTypeError\u001b[0m: unsupported operand type(s) for -: 'str' and 'str'"
     ]
    }
   ],
   "source": [
    "df['Days-Taken'] = (df['Date-sent-to-company'] - df['Date-received'])"
   ]
  },
  {
   "cell_type": "code",
   "execution_count": 131,
   "metadata": {},
   "outputs": [],
   "source": [
    "temp_date = temp_date1\n",
    "from datetime import datetime as dt"
   ]
  },
  {
   "cell_type": "code",
   "execution_count": 88,
   "metadata": {},
   "outputs": [
    {
     "ename": "TypeError",
     "evalue": "strptime() argument 1 must be string, not datetime.datetime",
     "output_type": "error",
     "traceback": [
      "\u001b[0;31m---------------------------------------------------------------------------\u001b[0m",
      "\u001b[0;31mTypeError\u001b[0m                                 Traceback (most recent call last)",
      "\u001b[0;32m<ipython-input-88-9576c38d33d5>\u001b[0m in \u001b[0;36m<module>\u001b[0;34m()\u001b[0m\n\u001b[0;32m----> 1\u001b[0;31m \u001b[0mtemp_date1\u001b[0m \u001b[0;34m=\u001b[0m \u001b[0mdatetime\u001b[0m\u001b[0;34m.\u001b[0m\u001b[0mstrptime\u001b[0m\u001b[0;34m(\u001b[0m\u001b[0mtemp_date1\u001b[0m\u001b[0;34m,\u001b[0m \u001b[0;34m\"%d/%m/%Y\"\u001b[0m\u001b[0;34m)\u001b[0m\u001b[0;34m\u001b[0m\u001b[0m\n\u001b[0m",
      "\u001b[0;31mTypeError\u001b[0m: strptime() argument 1 must be string, not datetime.datetime"
     ]
    }
   ],
   "source": [
    "temp_date1 = datetime.strptime(temp_date1, \"%d/%m/%Y\")"
   ]
  },
  {
   "cell_type": "code",
   "execution_count": 93,
   "metadata": {},
   "outputs": [],
   "source": [
    "def days_between(d1, d2):\n",
    "    d1 = datetime.strptime(d1, \"%d/%m/%Y\")\n",
    "    d2 = datetime.strptime(d2, \"%d/%m/%Y\")\n",
    "    return abs((d2 - d1).days)"
   ]
  },
  {
   "cell_type": "code",
   "execution_count": 94,
   "metadata": {},
   "outputs": [],
   "source": [
    "d1 = df['Date-received'][5]\n",
    "d2 = df['Date-received'][10]"
   ]
  },
  {
   "cell_type": "code",
   "execution_count": 100,
   "metadata": {},
   "outputs": [
    {
     "data": {
      "text/plain": [
       "'8/2/2016'"
      ]
     },
     "execution_count": 100,
     "metadata": {},
     "output_type": "execute_result"
    }
   ],
   "source": [
    "d1 = datetime."
   ]
  },
  {
   "cell_type": "code",
   "execution_count": 41,
   "metadata": {},
   "outputs": [],
   "source": [
    "temp = df.copy()"
   ]
  },
  {
   "cell_type": "code",
   "execution_count": 101,
   "metadata": {},
   "outputs": [
    {
     "ename": "TypeError",
     "evalue": "strptime() argument 1 must be string, not datetime.datetime",
     "output_type": "error",
     "traceback": [
      "\u001b[0;31m---------------------------------------------------------------------------\u001b[0m",
      "\u001b[0;31mTypeError\u001b[0m                                 Traceback (most recent call last)",
      "\u001b[0;32m<ipython-input-101-69656e154777>\u001b[0m in \u001b[0;36m<module>\u001b[0;34m()\u001b[0m\n\u001b[1;32m      2\u001b[0m     \u001b[0md1\u001b[0m \u001b[0;34m=\u001b[0m \u001b[0mdatetime\u001b[0m\u001b[0;34m.\u001b[0m\u001b[0mstrptime\u001b[0m\u001b[0;34m(\u001b[0m\u001b[0mrow\u001b[0m\u001b[0;34m[\u001b[0m\u001b[0;34m'Date-sent-to-company'\u001b[0m\u001b[0;34m]\u001b[0m\u001b[0;34m,\u001b[0m \u001b[0;34m\"%d/%m/%Y\"\u001b[0m\u001b[0;34m)\u001b[0m\u001b[0;34m\u001b[0m\u001b[0m\n\u001b[1;32m      3\u001b[0m     \u001b[0md2\u001b[0m \u001b[0;34m=\u001b[0m \u001b[0mdatetime\u001b[0m\u001b[0;34m.\u001b[0m\u001b[0mstrptime\u001b[0m\u001b[0;34m(\u001b[0m\u001b[0mrow\u001b[0m\u001b[0;34m[\u001b[0m\u001b[0;34m'Date-received'\u001b[0m\u001b[0;34m]\u001b[0m\u001b[0;34m,\u001b[0m \u001b[0;34m\"%d/%m/%Y\"\u001b[0m\u001b[0;34m)\u001b[0m\u001b[0;34m\u001b[0m\u001b[0m\n\u001b[0;32m----> 4\u001b[0;31m     \u001b[0mrow\u001b[0m\u001b[0;34m[\u001b[0m\u001b[0;34m'Difference'\u001b[0m\u001b[0;34m]\u001b[0m \u001b[0;34m=\u001b[0m \u001b[0mdays_between\u001b[0m\u001b[0;34m(\u001b[0m\u001b[0md2\u001b[0m\u001b[0;34m,\u001b[0m \u001b[0md1\u001b[0m\u001b[0;34m)\u001b[0m\u001b[0;34m\u001b[0m\u001b[0m\n\u001b[0m\u001b[1;32m      5\u001b[0m \u001b[0;34m\u001b[0m\u001b[0m\n",
      "\u001b[0;32m<ipython-input-93-14ab71efaf64>\u001b[0m in \u001b[0;36mdays_between\u001b[0;34m(d1, d2)\u001b[0m\n\u001b[1;32m      1\u001b[0m \u001b[0;32mdef\u001b[0m \u001b[0mdays_between\u001b[0m\u001b[0;34m(\u001b[0m\u001b[0md1\u001b[0m\u001b[0;34m,\u001b[0m \u001b[0md2\u001b[0m\u001b[0;34m)\u001b[0m\u001b[0;34m:\u001b[0m\u001b[0;34m\u001b[0m\u001b[0m\n\u001b[0;32m----> 2\u001b[0;31m     \u001b[0md1\u001b[0m \u001b[0;34m=\u001b[0m \u001b[0mdatetime\u001b[0m\u001b[0;34m.\u001b[0m\u001b[0mstrptime\u001b[0m\u001b[0;34m(\u001b[0m\u001b[0md1\u001b[0m\u001b[0;34m,\u001b[0m \u001b[0;34m\"%d/%m/%Y\"\u001b[0m\u001b[0;34m)\u001b[0m\u001b[0;34m\u001b[0m\u001b[0m\n\u001b[0m\u001b[1;32m      3\u001b[0m     \u001b[0md2\u001b[0m \u001b[0;34m=\u001b[0m \u001b[0mdatetime\u001b[0m\u001b[0;34m.\u001b[0m\u001b[0mstrptime\u001b[0m\u001b[0;34m(\u001b[0m\u001b[0md2\u001b[0m\u001b[0;34m,\u001b[0m \u001b[0;34m\"%d/%m/%Y\"\u001b[0m\u001b[0;34m)\u001b[0m\u001b[0;34m\u001b[0m\u001b[0m\n\u001b[1;32m      4\u001b[0m     \u001b[0;32mreturn\u001b[0m \u001b[0mabs\u001b[0m\u001b[0;34m(\u001b[0m\u001b[0;34m(\u001b[0m\u001b[0md2\u001b[0m \u001b[0;34m-\u001b[0m \u001b[0md1\u001b[0m\u001b[0;34m)\u001b[0m\u001b[0;34m.\u001b[0m\u001b[0mdays\u001b[0m\u001b[0;34m)\u001b[0m\u001b[0;34m\u001b[0m\u001b[0m\n",
      "\u001b[0;31mTypeError\u001b[0m: strptime() argument 1 must be string, not datetime.datetime"
     ]
    }
   ],
   "source": [
    "for index, row in temp.iterrows():\n",
    "    d1 = datetime.strptime(row['Date-sent-to-company'], \"%d/%m/%Y\")\n",
    "    d2 = datetime.strptime(row['Date-received'], \"%d/%m/%Y\")\n",
    "    row['Difference'] = days_between(d2, d1)\n",
    "    "
   ]
  },
  {
   "cell_type": "code",
   "execution_count": 42,
   "metadata": {},
   "outputs": [],
   "source": [
    "temp['B'] = pd.to_datetime(df['Date-sent-to-company'])\n",
    "df['A'] = pd.to_datetime(df['Date-received'])"
   ]
  },
  {
   "cell_type": "code",
   "execution_count": 43,
   "metadata": {},
   "outputs": [],
   "source": [
    "temp['A'] = df['A']"
   ]
  },
  {
   "cell_type": "code",
   "execution_count": 44,
   "metadata": {},
   "outputs": [],
   "source": [
    "temp['C'] = temp['B'] - temp['A']"
   ]
  },
  {
   "cell_type": "code",
   "execution_count": 45,
   "metadata": {},
   "outputs": [],
   "source": [
    "a = temp['C'][5]"
   ]
  },
  {
   "cell_type": "code",
   "execution_count": 125,
   "metadata": {},
   "outputs": [
    {
     "ename": "AttributeError",
     "evalue": "'Series' object has no attribute 'days'",
     "output_type": "error",
     "traceback": [
      "\u001b[0;31m---------------------------------------------------------------------------\u001b[0m",
      "\u001b[0;31mAttributeError\u001b[0m                            Traceback (most recent call last)",
      "\u001b[0;32m<ipython-input-125-fddc11578ed5>\u001b[0m in \u001b[0;36m<module>\u001b[0;34m()\u001b[0m\n\u001b[0;32m----> 1\u001b[0;31m \u001b[0mtemp\u001b[0m\u001b[0;34m[\u001b[0m\u001b[0;34m'C'\u001b[0m\u001b[0;34m]\u001b[0m \u001b[0;34m=\u001b[0m \u001b[0;34m(\u001b[0m\u001b[0mtemp\u001b[0m\u001b[0;34m[\u001b[0m\u001b[0;34m'B'\u001b[0m\u001b[0;34m]\u001b[0m \u001b[0;34m-\u001b[0m \u001b[0mtemp\u001b[0m\u001b[0;34m[\u001b[0m\u001b[0;34m'A'\u001b[0m\u001b[0;34m]\u001b[0m\u001b[0;34m)\u001b[0m\u001b[0;34m.\u001b[0m\u001b[0mdays\u001b[0m\u001b[0;34m\u001b[0m\u001b[0m\n\u001b[0m",
      "\u001b[0;32m/Users/rahulsharma/anaconda2/lib/python2.7/site-packages/pandas/core/generic.pyc\u001b[0m in \u001b[0;36m__getattr__\u001b[0;34m(self, name)\u001b[0m\n\u001b[1;32m   3612\u001b[0m             \u001b[0;32mif\u001b[0m \u001b[0mname\u001b[0m \u001b[0;32min\u001b[0m \u001b[0mself\u001b[0m\u001b[0;34m.\u001b[0m\u001b[0m_info_axis\u001b[0m\u001b[0;34m:\u001b[0m\u001b[0;34m\u001b[0m\u001b[0m\n\u001b[1;32m   3613\u001b[0m                 \u001b[0;32mreturn\u001b[0m \u001b[0mself\u001b[0m\u001b[0;34m[\u001b[0m\u001b[0mname\u001b[0m\u001b[0;34m]\u001b[0m\u001b[0;34m\u001b[0m\u001b[0m\n\u001b[0;32m-> 3614\u001b[0;31m             \u001b[0;32mreturn\u001b[0m \u001b[0mobject\u001b[0m\u001b[0;34m.\u001b[0m\u001b[0m__getattribute__\u001b[0m\u001b[0;34m(\u001b[0m\u001b[0mself\u001b[0m\u001b[0;34m,\u001b[0m \u001b[0mname\u001b[0m\u001b[0;34m)\u001b[0m\u001b[0;34m\u001b[0m\u001b[0m\n\u001b[0m\u001b[1;32m   3615\u001b[0m \u001b[0;34m\u001b[0m\u001b[0m\n\u001b[1;32m   3616\u001b[0m     \u001b[0;32mdef\u001b[0m \u001b[0m__setattr__\u001b[0m\u001b[0;34m(\u001b[0m\u001b[0mself\u001b[0m\u001b[0;34m,\u001b[0m \u001b[0mname\u001b[0m\u001b[0;34m,\u001b[0m \u001b[0mvalue\u001b[0m\u001b[0;34m)\u001b[0m\u001b[0;34m:\u001b[0m\u001b[0;34m\u001b[0m\u001b[0m\n",
      "\u001b[0;31mAttributeError\u001b[0m: 'Series' object has no attribute 'days'"
     ]
    }
   ],
   "source": [
    "temp['C'] = (temp['B'] - temp['A']).days"
   ]
  },
  {
   "cell_type": "code",
   "execution_count": 46,
   "metadata": {},
   "outputs": [],
   "source": [
    "a = temp['B'] - temp['A']"
   ]
  },
  {
   "cell_type": "code",
   "execution_count": 47,
   "metadata": {},
   "outputs": [
    {
     "data": {
      "text/plain": [
       "dtype('<m8[ns]')"
      ]
     },
     "execution_count": 47,
     "metadata": {},
     "output_type": "execute_result"
    }
   ],
   "source": [
    "a.dtype"
   ]
  },
  {
   "cell_type": "code",
   "execution_count": 48,
   "metadata": {},
   "outputs": [],
   "source": [
    "temp['C'] = temp['C'].dt.days"
   ]
  },
  {
   "cell_type": "code",
   "execution_count": 49,
   "metadata": {},
   "outputs": [],
   "source": [
    "df['Days-Needed'] = temp['C']"
   ]
  },
  {
   "cell_type": "code",
   "execution_count": 50,
   "metadata": {},
   "outputs": [],
   "source": [
    "df.drop({'A'},axis=1,inplace=True)"
   ]
  },
  {
   "cell_type": "code",
   "execution_count": 51,
   "metadata": {},
   "outputs": [],
   "source": [
    "df.drop({'Date-received', 'Date-sent-to-company'},axis=1,inplace=True)"
   ]
  },
  {
   "cell_type": "code",
   "execution_count": 52,
   "metadata": {},
   "outputs": [],
   "source": [
    "df.drop({'Unnamed: 0'},axis=1,inplace=True)"
   ]
  },
  {
   "cell_type": "code",
   "execution_count": 53,
   "metadata": {},
   "outputs": [
    {
     "data": {
      "text/html": [
       "<div>\n",
       "<style scoped>\n",
       "    .dataframe tbody tr th:only-of-type {\n",
       "        vertical-align: middle;\n",
       "    }\n",
       "\n",
       "    .dataframe tbody tr th {\n",
       "        vertical-align: top;\n",
       "    }\n",
       "\n",
       "    .dataframe thead th {\n",
       "        text-align: right;\n",
       "    }\n",
       "</style>\n",
       "<table border=\"1\" class=\"dataframe\">\n",
       "  <thead>\n",
       "    <tr style=\"text-align: right;\">\n",
       "      <th></th>\n",
       "      <th>Complaint-ID</th>\n",
       "      <th>Transaction-Type</th>\n",
       "      <th>Complaint-reason</th>\n",
       "      <th>Company-response</th>\n",
       "      <th>Complaint-Status</th>\n",
       "      <th>Consumer-disputes</th>\n",
       "      <th>Consumer-complaint-summary</th>\n",
       "      <th>Summary-lang</th>\n",
       "      <th>Days-Needed</th>\n",
       "    </tr>\n",
       "  </thead>\n",
       "  <tbody>\n",
       "    <tr>\n",
       "      <th>3</th>\n",
       "      <td>Tr-4</td>\n",
       "      <td>Debt collection</td>\n",
       "      <td>35</td>\n",
       "      <td>5.0</td>\n",
       "      <td>1</td>\n",
       "      <td>1.0</td>\n",
       "      <td>The loan was paid in XXXX XXXX In XXXX  years ...</td>\n",
       "      <td>en</td>\n",
       "      <td>0</td>\n",
       "    </tr>\n",
       "    <tr>\n",
       "      <th>5</th>\n",
       "      <td>Tr-6</td>\n",
       "      <td>Mortgage</td>\n",
       "      <td>73</td>\n",
       "      <td>8.0</td>\n",
       "      <td>1</td>\n",
       "      <td>2.0</td>\n",
       "      <td>The owner of my original mortgage filed for ba...</td>\n",
       "      <td>en</td>\n",
       "      <td>1</td>\n",
       "    </tr>\n",
       "    <tr>\n",
       "      <th>10</th>\n",
       "      <td>Tr-11</td>\n",
       "      <td>Mortgage</td>\n",
       "      <td>75</td>\n",
       "      <td>8.0</td>\n",
       "      <td>1</td>\n",
       "      <td>1.0</td>\n",
       "      <td>My mortgage provider United Wholesale Mortgage...</td>\n",
       "      <td>en</td>\n",
       "      <td>5</td>\n",
       "    </tr>\n",
       "    <tr>\n",
       "      <th>11</th>\n",
       "      <td>Tr-12</td>\n",
       "      <td>Credit card</td>\n",
       "      <td>37</td>\n",
       "      <td>8.0</td>\n",
       "      <td>1</td>\n",
       "      <td>1.0</td>\n",
       "      <td>My boyfriend and I bought a XXXX sofa and we h...</td>\n",
       "      <td>en</td>\n",
       "      <td>0</td>\n",
       "    </tr>\n",
       "    <tr>\n",
       "      <th>13</th>\n",
       "      <td>Tr-14</td>\n",
       "      <td>Credit reporting</td>\n",
       "      <td>68</td>\n",
       "      <td>8.0</td>\n",
       "      <td>1</td>\n",
       "      <td>1.0</td>\n",
       "      <td>Both accounts below are settled and closed You...</td>\n",
       "      <td>en</td>\n",
       "      <td>0</td>\n",
       "    </tr>\n",
       "  </tbody>\n",
       "</table>\n",
       "</div>"
      ],
      "text/plain": [
       "   Complaint-ID  Transaction-Type  Complaint-reason  Company-response  \\\n",
       "3          Tr-4   Debt collection                35               5.0   \n",
       "5          Tr-6          Mortgage                73               8.0   \n",
       "10        Tr-11          Mortgage                75               8.0   \n",
       "11        Tr-12       Credit card                37               8.0   \n",
       "13        Tr-14  Credit reporting                68               8.0   \n",
       "\n",
       "    Complaint-Status  Consumer-disputes  \\\n",
       "3                  1                1.0   \n",
       "5                  1                2.0   \n",
       "10                 1                1.0   \n",
       "11                 1                1.0   \n",
       "13                 1                1.0   \n",
       "\n",
       "                           Consumer-complaint-summary Summary-lang  \\\n",
       "3   The loan was paid in XXXX XXXX In XXXX  years ...           en   \n",
       "5   The owner of my original mortgage filed for ba...           en   \n",
       "10  My mortgage provider United Wholesale Mortgage...           en   \n",
       "11  My boyfriend and I bought a XXXX sofa and we h...           en   \n",
       "13  Both accounts below are settled and closed You...           en   \n",
       "\n",
       "    Days-Needed  \n",
       "3             0  \n",
       "5             1  \n",
       "10            5  \n",
       "11            0  \n",
       "13            0  "
      ]
     },
     "execution_count": 53,
     "metadata": {},
     "output_type": "execute_result"
    }
   ],
   "source": [
    "df.head()"
   ]
  },
  {
   "cell_type": "code",
   "execution_count": 54,
   "metadata": {},
   "outputs": [],
   "source": [
    "df_test['Complaint-reason'] = test['Complaint-reason']"
   ]
  },
  {
   "cell_type": "code",
   "execution_count": 55,
   "metadata": {},
   "outputs": [
    {
     "data": {
      "text/html": [
       "<div>\n",
       "<style scoped>\n",
       "    .dataframe tbody tr th:only-of-type {\n",
       "        vertical-align: middle;\n",
       "    }\n",
       "\n",
       "    .dataframe tbody tr th {\n",
       "        vertical-align: top;\n",
       "    }\n",
       "\n",
       "    .dataframe thead th {\n",
       "        text-align: right;\n",
       "    }\n",
       "</style>\n",
       "<table border=\"1\" class=\"dataframe\">\n",
       "  <thead>\n",
       "    <tr style=\"text-align: right;\">\n",
       "      <th></th>\n",
       "      <th>Complaint-ID</th>\n",
       "      <th>Date-received</th>\n",
       "      <th>Transaction-Type</th>\n",
       "      <th>Complaint-reason</th>\n",
       "      <th>Company-response</th>\n",
       "      <th>Date-sent-to-company</th>\n",
       "      <th>Consumer-disputes</th>\n",
       "      <th>Consumer-complaint-summary</th>\n",
       "      <th>Complaint-Status</th>\n",
       "    </tr>\n",
       "  </thead>\n",
       "  <tbody>\n",
       "    <tr>\n",
       "      <th>0</th>\n",
       "      <td>Te-1</td>\n",
       "      <td>8/18/2016</td>\n",
       "      <td>Bank account or service</td>\n",
       "      <td>Account opening, closing, or management</td>\n",
       "      <td>10.0</td>\n",
       "      <td>8/18/2016</td>\n",
       "      <td>1.0</td>\n",
       "      <td>XXXX / XXXX / 16 I called Citibank to open a c...</td>\n",
       "      <td>1</td>\n",
       "    </tr>\n",
       "    <tr>\n",
       "      <th>1</th>\n",
       "      <td>Te-2</td>\n",
       "      <td>4/18/2016</td>\n",
       "      <td>Debt collection</td>\n",
       "      <td>Communication tactics</td>\n",
       "      <td>5.0</td>\n",
       "      <td>4/20/2016</td>\n",
       "      <td>1.0</td>\n",
       "      <td>I'm struggling financially. I called and I off...</td>\n",
       "      <td>1</td>\n",
       "    </tr>\n",
       "    <tr>\n",
       "      <th>2</th>\n",
       "      <td>Te-3</td>\n",
       "      <td>3/23/2016</td>\n",
       "      <td>Credit reporting</td>\n",
       "      <td>Incorrect information on credit report</td>\n",
       "      <td>8.0</td>\n",
       "      <td>3/23/2016</td>\n",
       "      <td>1.0</td>\n",
       "      <td>In XXXX of 2015, an automatic payment was conf...</td>\n",
       "      <td>1</td>\n",
       "    </tr>\n",
       "    <tr>\n",
       "      <th>3</th>\n",
       "      <td>Te-4</td>\n",
       "      <td>6/26/2017</td>\n",
       "      <td>Student loan</td>\n",
       "      <td>Dealing with your lender or servicer</td>\n",
       "      <td>8.0</td>\n",
       "      <td>6/26/2017</td>\n",
       "      <td>1.0</td>\n",
       "      <td>I submitted a request to XXXX, which is my cur...</td>\n",
       "      <td>1</td>\n",
       "    </tr>\n",
       "    <tr>\n",
       "      <th>4</th>\n",
       "      <td>Te-5</td>\n",
       "      <td>5/13/2016</td>\n",
       "      <td>Credit reporting</td>\n",
       "      <td>Incorrect information on credit report</td>\n",
       "      <td>10.0</td>\n",
       "      <td>5/13/2016</td>\n",
       "      <td>1.0</td>\n",
       "      <td>A state tax lien was filed against me XXXX / X...</td>\n",
       "      <td>1</td>\n",
       "    </tr>\n",
       "  </tbody>\n",
       "</table>\n",
       "</div>"
      ],
      "text/plain": [
       "  Complaint-ID Date-received         Transaction-Type  \\\n",
       "0         Te-1     8/18/2016  Bank account or service   \n",
       "1         Te-2     4/18/2016          Debt collection   \n",
       "2         Te-3     3/23/2016         Credit reporting   \n",
       "3         Te-4     6/26/2017             Student loan   \n",
       "4         Te-5     5/13/2016         Credit reporting   \n",
       "\n",
       "                          Complaint-reason  Company-response  \\\n",
       "0  Account opening, closing, or management              10.0   \n",
       "1                    Communication tactics               5.0   \n",
       "2   Incorrect information on credit report               8.0   \n",
       "3     Dealing with your lender or servicer               8.0   \n",
       "4   Incorrect information on credit report              10.0   \n",
       "\n",
       "  Date-sent-to-company  Consumer-disputes  \\\n",
       "0            8/18/2016                1.0   \n",
       "1            4/20/2016                1.0   \n",
       "2            3/23/2016                1.0   \n",
       "3            6/26/2017                1.0   \n",
       "4            5/13/2016                1.0   \n",
       "\n",
       "                          Consumer-complaint-summary  Complaint-Status  \n",
       "0  XXXX / XXXX / 16 I called Citibank to open a c...                 1  \n",
       "1  I'm struggling financially. I called and I off...                 1  \n",
       "2  In XXXX of 2015, an automatic payment was conf...                 1  \n",
       "3  I submitted a request to XXXX, which is my cur...                 1  \n",
       "4  A state tax lien was filed against me XXXX / X...                 1  "
      ]
     },
     "execution_count": 55,
     "metadata": {},
     "output_type": "execute_result"
    }
   ],
   "source": [
    "df_test.head()"
   ]
  },
  {
   "cell_type": "code",
   "execution_count": null,
   "metadata": {},
   "outputs": [],
   "source": []
  },
  {
   "cell_type": "code",
   "execution_count": 56,
   "metadata": {},
   "outputs": [],
   "source": [
    "temp = pd.read_csv('/Users/rahulsharma/Consumer-Complaint-Summary-With-Lang.csv')"
   ]
  },
  {
   "cell_type": "code",
   "execution_count": null,
   "metadata": {},
   "outputs": [],
   "source": []
  },
  {
   "cell_type": "code",
   "execution_count": 57,
   "metadata": {},
   "outputs": [],
   "source": [
    "gle = LabelEncoder()\n",
    "genre_labels = gle.fit_transform(temp['Complaint-reason'])\n",
    "genre_mappings = {index: label for index, label in \n",
    "                  enumerate(gle.classes_)}\n",
    "inv_map = {v: k for k, v in genre_mappings.iteritems()}"
   ]
  },
  {
   "cell_type": "code",
   "execution_count": 58,
   "metadata": {},
   "outputs": [
    {
     "data": {
      "text/plain": [
       "{'APR or interest rate': 0,\n",
       " 'Account opening, closing, or management': 1,\n",
       " 'Account terms and changes': 2,\n",
       " 'Adding money': 3,\n",
       " 'Advertising': 4,\n",
       " 'Advertising and marketing': 5,\n",
       " 'Advertising and marketing, including promotional offers': 6,\n",
       " 'Advertising, marketing or disclosures': 7,\n",
       " 'Application processing delay': 8,\n",
       " 'Application, originator, mortgage broker': 9,\n",
       " 'Applied for loan/did not receive money': 10,\n",
       " 'Applying for a mortgage': 11,\n",
       " 'Applying for a mortgage or refinancing an existing mortgage': 12,\n",
       " 'Arbitration': 13,\n",
       " 'Attempts to collect debt not owed': 14,\n",
       " 'Balance transfer': 15,\n",
       " 'Balance transfer fee': 16,\n",
       " 'Bankruptcy': 17,\n",
       " 'Billing disputes': 18,\n",
       " 'Billing statement': 19,\n",
       " \"Can't contact lender\": 20,\n",
       " \"Can't contact lender or servicer\": 21,\n",
       " \"Can't repay my loan\": 22,\n",
       " \"Can't stop charges to bank account\": 23,\n",
       " 'Cash advance': 24,\n",
       " 'Cash advance fee': 25,\n",
       " 'Charged bank acct wrong day or amt': 26,\n",
       " \"Charged fees or interest I didn't expect\": 27,\n",
       " \"Charged fees or interest you didn't expect\": 28,\n",
       " 'Closing an account': 29,\n",
       " 'Closing on a mortgage': 30,\n",
       " 'Closing your account': 31,\n",
       " 'Closing/Cancelling account': 32,\n",
       " 'Communication tactics': 33,\n",
       " 'Confusing or misleading advertising or marketing': 34,\n",
       " 'Confusing or missing disclosures': 35,\n",
       " \"Cont'd attempts collect debt not owed\": 36,\n",
       " 'Convenience checks': 37,\n",
       " 'Credit card protection / Debt protection': 38,\n",
       " 'Credit decision / Underwriting': 39,\n",
       " 'Credit determination': 40,\n",
       " 'Credit limit changed': 41,\n",
       " 'Credit line increase/decrease': 42,\n",
       " 'Credit monitoring or identity protection': 43,\n",
       " 'Credit monitoring or identity theft protection services': 44,\n",
       " \"Credit reporting company's investigation\": 45,\n",
       " 'Customer service / Customer relations': 46,\n",
       " 'Customer service/Customer relations': 47,\n",
       " 'Dealing with my lender or servicer': 48,\n",
       " 'Dealing with your lender or servicer': 49,\n",
       " 'Delinquent account': 50,\n",
       " 'Deposits and withdrawals': 51,\n",
       " 'Disclosure verification of debt': 52,\n",
       " 'Disclosures': 53,\n",
       " 'Excessive fees': 54,\n",
       " 'False statements or representation': 55,\n",
       " 'Fees': 56,\n",
       " 'Fees or interest': 57,\n",
       " 'Forbearance / Workout plans': 58,\n",
       " 'Fraud or scam': 59,\n",
       " 'Getting a credit card': 60,\n",
       " 'Getting a line of credit': 61,\n",
       " 'Getting a loan': 62,\n",
       " 'Getting a loan or lease': 63,\n",
       " 'Getting the loan': 64,\n",
       " 'Identity theft / Fraud / Embezzlement': 65,\n",
       " 'Identity theft protection or other monitoring services': 66,\n",
       " 'Improper contact or sharing of info': 67,\n",
       " 'Improper use of my credit report': 68,\n",
       " 'Improper use of your report': 69,\n",
       " 'Incorrect exchange rate': 70,\n",
       " 'Incorrect information on credit report': 71,\n",
       " 'Incorrect information on your report': 72,\n",
       " 'Incorrect/missing disclosures or info': 73,\n",
       " 'Late fee': 74,\n",
       " 'Lender repossessed or sold the vehicle': 75,\n",
       " 'Loan modification,collection,foreclosure': 76,\n",
       " \"Loan payment wasn't credited to your account\": 77,\n",
       " 'Loan servicing, payments, escrow account': 78,\n",
       " 'Lost or stolen check': 79,\n",
       " 'Lost or stolen money order': 80,\n",
       " 'Making/receiving payments, sending money': 81,\n",
       " 'Managing an account': 82,\n",
       " 'Managing the line of credit': 83,\n",
       " 'Managing the loan or lease': 84,\n",
       " 'Managing, opening, or closing account': 85,\n",
       " 'Managing, opening, or closing your mobile wallet account': 86,\n",
       " 'Money was not available when promised': 87,\n",
       " 'Money was taken from your bank account on the wrong day or for the wrong amount': 88,\n",
       " 'Opening an account': 89,\n",
       " 'Other': 90,\n",
       " 'Other features, terms, or problems': 91,\n",
       " 'Other fee': 92,\n",
       " 'Other service issues': 93,\n",
       " 'Other service problem': 94,\n",
       " 'Other transaction issues': 95,\n",
       " 'Other transaction problem': 96,\n",
       " 'Overdraft, savings or rewards features': 97,\n",
       " 'Overlimit fee': 98,\n",
       " 'Payment to acct not credited': 99,\n",
       " 'Payoff process': 100,\n",
       " 'Privacy': 101,\n",
       " 'Problem adding money': 102,\n",
       " 'Problem caused by your funds being low': 103,\n",
       " 'Problem getting a card or closing an account': 104,\n",
       " 'Problem when making payments': 105,\n",
       " \"Problem with a company's investigation into an existing issue\": 106,\n",
       " \"Problem with a credit reporting company's investigation into an existing problem\": 107,\n",
       " 'Problem with a lender or other company charging your account': 108,\n",
       " 'Problem with a purchase or transfer': 109,\n",
       " 'Problem with a purchase shown on your statement': 110,\n",
       " 'Problem with additional add-on products or services': 111,\n",
       " 'Problem with an overdraft': 112,\n",
       " 'Problem with customer service': 113,\n",
       " 'Problem with fraud alerts or security freezes': 114,\n",
       " 'Problem with the payoff process at the end of the loan': 115,\n",
       " 'Problems at the end of the loan or lease': 116,\n",
       " 'Problems caused by my funds being low': 117,\n",
       " 'Problems when you are unable to pay': 118,\n",
       " \"Received a loan I didn't apply for\": 119,\n",
       " \"Received a loan you didn't apply for\": 120,\n",
       " 'Rewards': 121,\n",
       " 'Sale of account': 122,\n",
       " 'Settlement process and costs': 123,\n",
       " 'Shopping for a line of credit': 124,\n",
       " 'Shopping for a loan or lease': 125,\n",
       " 'Struggling to pay mortgage': 126,\n",
       " 'Struggling to pay your bill': 127,\n",
       " 'Struggling to pay your loan': 128,\n",
       " 'Struggling to repay your loan': 129,\n",
       " 'Taking out the loan or lease': 130,\n",
       " 'Taking/threatening an illegal action': 131,\n",
       " 'Threatened to contact someone or share information improperly': 132,\n",
       " 'Took or threatened to take negative or legal action': 133,\n",
       " 'Transaction issue': 134,\n",
       " 'Trouble during payment process': 135,\n",
       " 'Trouble using the card': 136,\n",
       " 'Trouble using your card': 137,\n",
       " 'Unable to get credit report/credit score': 138,\n",
       " 'Unable to get your credit report or credit score': 139,\n",
       " 'Unauthorized transactions or other transaction problem': 140,\n",
       " 'Unauthorized transactions/trans. issues': 141,\n",
       " 'Unexpected or other fees': 142,\n",
       " 'Unexpected/Other fees': 143,\n",
       " 'Unsolicited issuance of credit card': 144,\n",
       " 'Using a debit or ATM card': 145,\n",
       " 'Vehicle was repossessed or sold the vehicle': 146,\n",
       " \"Was approved for a loan, but didn't receive the money\": 147,\n",
       " 'Written notification about debt': 148,\n",
       " 'Wrong amount charged or received': 149}"
      ]
     },
     "execution_count": 58,
     "metadata": {},
     "output_type": "execute_result"
    }
   ],
   "source": [
    "inv_map"
   ]
  },
  {
   "cell_type": "code",
   "execution_count": 59,
   "metadata": {},
   "outputs": [],
   "source": [
    "df_test['Complaint-reason'] = df_test['Complaint-reason'].map(inv_map) "
   ]
  },
  {
   "cell_type": "code",
   "execution_count": 60,
   "metadata": {},
   "outputs": [
    {
     "data": {
      "text/html": [
       "<div>\n",
       "<style scoped>\n",
       "    .dataframe tbody tr th:only-of-type {\n",
       "        vertical-align: middle;\n",
       "    }\n",
       "\n",
       "    .dataframe tbody tr th {\n",
       "        vertical-align: top;\n",
       "    }\n",
       "\n",
       "    .dataframe thead th {\n",
       "        text-align: right;\n",
       "    }\n",
       "</style>\n",
       "<table border=\"1\" class=\"dataframe\">\n",
       "  <thead>\n",
       "    <tr style=\"text-align: right;\">\n",
       "      <th></th>\n",
       "      <th>Complaint-ID</th>\n",
       "      <th>Date-received</th>\n",
       "      <th>Transaction-Type</th>\n",
       "      <th>Complaint-reason</th>\n",
       "      <th>Company-response</th>\n",
       "      <th>Date-sent-to-company</th>\n",
       "      <th>Consumer-disputes</th>\n",
       "      <th>Consumer-complaint-summary</th>\n",
       "      <th>Complaint-Status</th>\n",
       "    </tr>\n",
       "  </thead>\n",
       "  <tbody>\n",
       "    <tr>\n",
       "      <th>0</th>\n",
       "      <td>Te-1</td>\n",
       "      <td>8/18/2016</td>\n",
       "      <td>Bank account or service</td>\n",
       "      <td>1.0</td>\n",
       "      <td>10.0</td>\n",
       "      <td>8/18/2016</td>\n",
       "      <td>1.0</td>\n",
       "      <td>XXXX / XXXX / 16 I called Citibank to open a c...</td>\n",
       "      <td>1</td>\n",
       "    </tr>\n",
       "    <tr>\n",
       "      <th>1</th>\n",
       "      <td>Te-2</td>\n",
       "      <td>4/18/2016</td>\n",
       "      <td>Debt collection</td>\n",
       "      <td>33.0</td>\n",
       "      <td>5.0</td>\n",
       "      <td>4/20/2016</td>\n",
       "      <td>1.0</td>\n",
       "      <td>I'm struggling financially. I called and I off...</td>\n",
       "      <td>1</td>\n",
       "    </tr>\n",
       "    <tr>\n",
       "      <th>2</th>\n",
       "      <td>Te-3</td>\n",
       "      <td>3/23/2016</td>\n",
       "      <td>Credit reporting</td>\n",
       "      <td>71.0</td>\n",
       "      <td>8.0</td>\n",
       "      <td>3/23/2016</td>\n",
       "      <td>1.0</td>\n",
       "      <td>In XXXX of 2015, an automatic payment was conf...</td>\n",
       "      <td>1</td>\n",
       "    </tr>\n",
       "    <tr>\n",
       "      <th>3</th>\n",
       "      <td>Te-4</td>\n",
       "      <td>6/26/2017</td>\n",
       "      <td>Student loan</td>\n",
       "      <td>49.0</td>\n",
       "      <td>8.0</td>\n",
       "      <td>6/26/2017</td>\n",
       "      <td>1.0</td>\n",
       "      <td>I submitted a request to XXXX, which is my cur...</td>\n",
       "      <td>1</td>\n",
       "    </tr>\n",
       "    <tr>\n",
       "      <th>4</th>\n",
       "      <td>Te-5</td>\n",
       "      <td>5/13/2016</td>\n",
       "      <td>Credit reporting</td>\n",
       "      <td>71.0</td>\n",
       "      <td>10.0</td>\n",
       "      <td>5/13/2016</td>\n",
       "      <td>1.0</td>\n",
       "      <td>A state tax lien was filed against me XXXX / X...</td>\n",
       "      <td>1</td>\n",
       "    </tr>\n",
       "  </tbody>\n",
       "</table>\n",
       "</div>"
      ],
      "text/plain": [
       "  Complaint-ID Date-received         Transaction-Type  Complaint-reason  \\\n",
       "0         Te-1     8/18/2016  Bank account or service               1.0   \n",
       "1         Te-2     4/18/2016          Debt collection              33.0   \n",
       "2         Te-3     3/23/2016         Credit reporting              71.0   \n",
       "3         Te-4     6/26/2017             Student loan              49.0   \n",
       "4         Te-5     5/13/2016         Credit reporting              71.0   \n",
       "\n",
       "   Company-response Date-sent-to-company  Consumer-disputes  \\\n",
       "0              10.0            8/18/2016                1.0   \n",
       "1               5.0            4/20/2016                1.0   \n",
       "2               8.0            3/23/2016                1.0   \n",
       "3               8.0            6/26/2017                1.0   \n",
       "4              10.0            5/13/2016                1.0   \n",
       "\n",
       "                          Consumer-complaint-summary  Complaint-Status  \n",
       "0  XXXX / XXXX / 16 I called Citibank to open a c...                 1  \n",
       "1  I'm struggling financially. I called and I off...                 1  \n",
       "2  In XXXX of 2015, an automatic payment was conf...                 1  \n",
       "3  I submitted a request to XXXX, which is my cur...                 1  \n",
       "4  A state tax lien was filed against me XXXX / X...                 1  "
      ]
     },
     "execution_count": 60,
     "metadata": {},
     "output_type": "execute_result"
    }
   ],
   "source": [
    "df_test.head()"
   ]
  },
  {
   "cell_type": "code",
   "execution_count": 61,
   "metadata": {},
   "outputs": [],
   "source": [
    "df_test[\"Complaint-Status\"] = ans_concat[\"Complaint-Status\"]"
   ]
  },
  {
   "cell_type": "code",
   "execution_count": null,
   "metadata": {},
   "outputs": [],
   "source": []
  },
  {
   "cell_type": "code",
   "execution_count": 62,
   "metadata": {},
   "outputs": [],
   "source": [
    "gle = LabelEncoder()\n",
    "genre_labels = gle.fit_transform(temp['Complaint-Status'])\n",
    "genre_mappings = {index: label for index, label in \n",
    "                  enumerate(gle.classes_)}\n",
    "inv_map = {v: k for k, v in genre_mappings.iteritems()}"
   ]
  },
  {
   "cell_type": "code",
   "execution_count": 63,
   "metadata": {},
   "outputs": [
    {
     "data": {
      "text/plain": [
       "{'Closed': 0,\n",
       " 'Closed with explanation': 1,\n",
       " 'Closed with monetary relief': 2,\n",
       " 'Closed with non-monetary relief': 3,\n",
       " 'Untimely response': 4}"
      ]
     },
     "execution_count": 63,
     "metadata": {},
     "output_type": "execute_result"
    }
   ],
   "source": [
    "inv_map"
   ]
  },
  {
   "cell_type": "code",
   "execution_count": 64,
   "metadata": {},
   "outputs": [],
   "source": [
    "df_test['Complaint-Status'] = df_test['Complaint-Status'].map(inv_map) "
   ]
  },
  {
   "cell_type": "code",
   "execution_count": 65,
   "metadata": {},
   "outputs": [],
   "source": [
    "df_test['Company-response'] = df_test['Company-response'].astype(int)"
   ]
  },
  {
   "cell_type": "code",
   "execution_count": 66,
   "metadata": {},
   "outputs": [
    {
     "data": {
      "text/html": [
       "<div>\n",
       "<style scoped>\n",
       "    .dataframe tbody tr th:only-of-type {\n",
       "        vertical-align: middle;\n",
       "    }\n",
       "\n",
       "    .dataframe tbody tr th {\n",
       "        vertical-align: top;\n",
       "    }\n",
       "\n",
       "    .dataframe thead th {\n",
       "        text-align: right;\n",
       "    }\n",
       "</style>\n",
       "<table border=\"1\" class=\"dataframe\">\n",
       "  <thead>\n",
       "    <tr style=\"text-align: right;\">\n",
       "      <th></th>\n",
       "      <th>Complaint-ID</th>\n",
       "      <th>Date-received</th>\n",
       "      <th>Transaction-Type</th>\n",
       "      <th>Complaint-reason</th>\n",
       "      <th>Company-response</th>\n",
       "      <th>Date-sent-to-company</th>\n",
       "      <th>Consumer-disputes</th>\n",
       "      <th>Consumer-complaint-summary</th>\n",
       "      <th>Complaint-Status</th>\n",
       "    </tr>\n",
       "  </thead>\n",
       "  <tbody>\n",
       "    <tr>\n",
       "      <th>0</th>\n",
       "      <td>Te-1</td>\n",
       "      <td>8/18/2016</td>\n",
       "      <td>Bank account or service</td>\n",
       "      <td>1.0</td>\n",
       "      <td>10</td>\n",
       "      <td>8/18/2016</td>\n",
       "      <td>1.0</td>\n",
       "      <td>XXXX / XXXX / 16 I called Citibank to open a c...</td>\n",
       "      <td>1</td>\n",
       "    </tr>\n",
       "    <tr>\n",
       "      <th>1</th>\n",
       "      <td>Te-2</td>\n",
       "      <td>4/18/2016</td>\n",
       "      <td>Debt collection</td>\n",
       "      <td>33.0</td>\n",
       "      <td>5</td>\n",
       "      <td>4/20/2016</td>\n",
       "      <td>1.0</td>\n",
       "      <td>I'm struggling financially. I called and I off...</td>\n",
       "      <td>1</td>\n",
       "    </tr>\n",
       "    <tr>\n",
       "      <th>2</th>\n",
       "      <td>Te-3</td>\n",
       "      <td>3/23/2016</td>\n",
       "      <td>Credit reporting</td>\n",
       "      <td>71.0</td>\n",
       "      <td>8</td>\n",
       "      <td>3/23/2016</td>\n",
       "      <td>1.0</td>\n",
       "      <td>In XXXX of 2015, an automatic payment was conf...</td>\n",
       "      <td>1</td>\n",
       "    </tr>\n",
       "    <tr>\n",
       "      <th>3</th>\n",
       "      <td>Te-4</td>\n",
       "      <td>6/26/2017</td>\n",
       "      <td>Student loan</td>\n",
       "      <td>49.0</td>\n",
       "      <td>8</td>\n",
       "      <td>6/26/2017</td>\n",
       "      <td>1.0</td>\n",
       "      <td>I submitted a request to XXXX, which is my cur...</td>\n",
       "      <td>1</td>\n",
       "    </tr>\n",
       "    <tr>\n",
       "      <th>4</th>\n",
       "      <td>Te-5</td>\n",
       "      <td>5/13/2016</td>\n",
       "      <td>Credit reporting</td>\n",
       "      <td>71.0</td>\n",
       "      <td>10</td>\n",
       "      <td>5/13/2016</td>\n",
       "      <td>1.0</td>\n",
       "      <td>A state tax lien was filed against me XXXX / X...</td>\n",
       "      <td>1</td>\n",
       "    </tr>\n",
       "  </tbody>\n",
       "</table>\n",
       "</div>"
      ],
      "text/plain": [
       "  Complaint-ID Date-received         Transaction-Type  Complaint-reason  \\\n",
       "0         Te-1     8/18/2016  Bank account or service               1.0   \n",
       "1         Te-2     4/18/2016          Debt collection              33.0   \n",
       "2         Te-3     3/23/2016         Credit reporting              71.0   \n",
       "3         Te-4     6/26/2017             Student loan              49.0   \n",
       "4         Te-5     5/13/2016         Credit reporting              71.0   \n",
       "\n",
       "   Company-response Date-sent-to-company  Consumer-disputes  \\\n",
       "0                10            8/18/2016                1.0   \n",
       "1                 5            4/20/2016                1.0   \n",
       "2                 8            3/23/2016                1.0   \n",
       "3                 8            6/26/2017                1.0   \n",
       "4                10            5/13/2016                1.0   \n",
       "\n",
       "                          Consumer-complaint-summary  Complaint-Status  \n",
       "0  XXXX / XXXX / 16 I called Citibank to open a c...                 1  \n",
       "1  I'm struggling financially. I called and I off...                 1  \n",
       "2  In XXXX of 2015, an automatic payment was conf...                 1  \n",
       "3  I submitted a request to XXXX, which is my cur...                 1  \n",
       "4  A state tax lien was filed against me XXXX / X...                 1  "
      ]
     },
     "execution_count": 66,
     "metadata": {},
     "output_type": "execute_result"
    }
   ],
   "source": [
    "df_test.head()"
   ]
  },
  {
   "cell_type": "code",
   "execution_count": 67,
   "metadata": {},
   "outputs": [],
   "source": [
    "df_test['Consumer-disputes'] = df_test['Consumer-disputes'].astype(int)"
   ]
  },
  {
   "cell_type": "code",
   "execution_count": 68,
   "metadata": {},
   "outputs": [
    {
     "data": {
      "text/plain": [
       "64.0"
      ]
     },
     "execution_count": 68,
     "metadata": {},
     "output_type": "execute_result"
    }
   ],
   "source": [
    "mean_value= math.floor(df_test['Complaint-reason'].mean())\n",
    "mean_value"
   ]
  },
  {
   "cell_type": "code",
   "execution_count": 69,
   "metadata": {},
   "outputs": [],
   "source": [
    "df_test['Complaint-reason']=df_test['Complaint-reason'].fillna(mean_value)"
   ]
  },
  {
   "cell_type": "code",
   "execution_count": 70,
   "metadata": {},
   "outputs": [
    {
     "data": {
      "text/plain": [
       "Complaint-ID                  0\n",
       "Date-received                 0\n",
       "Transaction-Type              0\n",
       "Complaint-reason              0\n",
       "Company-response              0\n",
       "Date-sent-to-company          0\n",
       "Consumer-disputes             0\n",
       "Consumer-complaint-summary    0\n",
       "Complaint-Status              0\n",
       "dtype: int64"
      ]
     },
     "execution_count": 70,
     "metadata": {},
     "output_type": "execute_result"
    }
   ],
   "source": [
    "df_test.isnull().sum()"
   ]
  },
  {
   "cell_type": "code",
   "execution_count": null,
   "metadata": {},
   "outputs": [],
   "source": []
  },
  {
   "cell_type": "code",
   "execution_count": 2,
   "metadata": {},
   "outputs": [],
   "source": [
    "ans_final = pd.read_csv('Complaint--Status--Tracking--New.csv')"
   ]
  },
  {
   "cell_type": "code",
   "execution_count": 71,
   "metadata": {},
   "outputs": [],
   "source": [
    "gle = LabelEncoder()\n",
    "genre_labels = gle.fit_transform(df['Transaction-Type'])\n",
    "genre_mappings = {index: label for index, label in \n",
    "                  enumerate(gle.classes_)}\n",
    "inv_map = {v: k for k, v in genre_mappings.iteritems()}"
   ]
  },
  {
   "cell_type": "code",
   "execution_count": 72,
   "metadata": {},
   "outputs": [],
   "source": [
    "df_test['Transaction-Type'] = df_test['Transaction-Type'].map(inv_map)"
   ]
  },
  {
   "cell_type": "code",
   "execution_count": 73,
   "metadata": {},
   "outputs": [],
   "source": [
    "df['Transaction-Type'] = df['Transaction-Type'].map(inv_map)"
   ]
  },
  {
   "cell_type": "code",
   "execution_count": null,
   "metadata": {},
   "outputs": [],
   "source": []
  },
  {
   "cell_type": "code",
   "execution_count": 74,
   "metadata": {},
   "outputs": [],
   "source": [
    "df['Consumer-disputes'] = df['Consumer-disputes'].astype(int)"
   ]
  },
  {
   "cell_type": "code",
   "execution_count": 75,
   "metadata": {},
   "outputs": [],
   "source": [
    "df['Company-response'] = df['Company-response'].astype(int)"
   ]
  },
  {
   "cell_type": "code",
   "execution_count": null,
   "metadata": {},
   "outputs": [],
   "source": []
  },
  {
   "cell_type": "code",
   "execution_count": 76,
   "metadata": {},
   "outputs": [],
   "source": [
    "df_test['Complaint-reason'] = df_test['Complaint-reason'].astype(int)"
   ]
  },
  {
   "cell_type": "code",
   "execution_count": 77,
   "metadata": {},
   "outputs": [],
   "source": [
    "df_test.drop({'Date-received', 'Date-sent-to-company'},axis=1,inplace=True)"
   ]
  },
  {
   "cell_type": "code",
   "execution_count": 78,
   "metadata": {},
   "outputs": [],
   "source": [
    "temp1 = df.copy()"
   ]
  },
  {
   "cell_type": "code",
   "execution_count": 79,
   "metadata": {},
   "outputs": [],
   "source": [
    "temp2 = df_test.copy()"
   ]
  },
  {
   "cell_type": "code",
   "execution_count": 80,
   "metadata": {},
   "outputs": [],
   "source": [
    "temp1.drop({'Complaint-ID','Consumer-complaint-summary'},axis=1,inplace=True)"
   ]
  },
  {
   "cell_type": "code",
   "execution_count": 81,
   "metadata": {},
   "outputs": [],
   "source": [
    "temp2.drop({'Complaint-ID','Consumer-complaint-summary'},axis=1,inplace=True)"
   ]
  },
  {
   "cell_type": "code",
   "execution_count": 82,
   "metadata": {},
   "outputs": [],
   "source": [
    "temp1['Days-Needed'] = temp1['Days-Needed'].abs()"
   ]
  },
  {
   "cell_type": "code",
   "execution_count": 83,
   "metadata": {},
   "outputs": [
    {
     "data": {
      "text/html": [
       "<div>\n",
       "<style scoped>\n",
       "    .dataframe tbody tr th:only-of-type {\n",
       "        vertical-align: middle;\n",
       "    }\n",
       "\n",
       "    .dataframe tbody tr th {\n",
       "        vertical-align: top;\n",
       "    }\n",
       "\n",
       "    .dataframe thead th {\n",
       "        text-align: right;\n",
       "    }\n",
       "</style>\n",
       "<table border=\"1\" class=\"dataframe\">\n",
       "  <thead>\n",
       "    <tr style=\"text-align: right;\">\n",
       "      <th></th>\n",
       "      <th>Transaction-Type</th>\n",
       "      <th>Complaint-reason</th>\n",
       "      <th>Company-response</th>\n",
       "      <th>Consumer-disputes</th>\n",
       "      <th>Complaint-Status</th>\n",
       "    </tr>\n",
       "  </thead>\n",
       "  <tbody>\n",
       "    <tr>\n",
       "      <th>0</th>\n",
       "      <td>0</td>\n",
       "      <td>1</td>\n",
       "      <td>10</td>\n",
       "      <td>1</td>\n",
       "      <td>1</td>\n",
       "    </tr>\n",
       "    <tr>\n",
       "      <th>1</th>\n",
       "      <td>7</td>\n",
       "      <td>33</td>\n",
       "      <td>5</td>\n",
       "      <td>1</td>\n",
       "      <td>1</td>\n",
       "    </tr>\n",
       "    <tr>\n",
       "      <th>2</th>\n",
       "      <td>5</td>\n",
       "      <td>71</td>\n",
       "      <td>8</td>\n",
       "      <td>1</td>\n",
       "      <td>1</td>\n",
       "    </tr>\n",
       "    <tr>\n",
       "      <th>3</th>\n",
       "      <td>15</td>\n",
       "      <td>49</td>\n",
       "      <td>8</td>\n",
       "      <td>1</td>\n",
       "      <td>1</td>\n",
       "    </tr>\n",
       "    <tr>\n",
       "      <th>4</th>\n",
       "      <td>5</td>\n",
       "      <td>71</td>\n",
       "      <td>10</td>\n",
       "      <td>1</td>\n",
       "      <td>1</td>\n",
       "    </tr>\n",
       "  </tbody>\n",
       "</table>\n",
       "</div>"
      ],
      "text/plain": [
       "   Transaction-Type  Complaint-reason  Company-response  Consumer-disputes  \\\n",
       "0                 0                 1                10                  1   \n",
       "1                 7                33                 5                  1   \n",
       "2                 5                71                 8                  1   \n",
       "3                15                49                 8                  1   \n",
       "4                 5                71                10                  1   \n",
       "\n",
       "   Complaint-Status  \n",
       "0                 1  \n",
       "1                 1  \n",
       "2                 1  \n",
       "3                 1  \n",
       "4                 1  "
      ]
     },
     "execution_count": 83,
     "metadata": {},
     "output_type": "execute_result"
    }
   ],
   "source": [
    "temp2.head()"
   ]
  },
  {
   "cell_type": "code",
   "execution_count": 84,
   "metadata": {},
   "outputs": [],
   "source": [
    "temp1.drop({'Summary-lang'},axis=1,inplace=True)"
   ]
  },
  {
   "cell_type": "code",
   "execution_count": 85,
   "metadata": {},
   "outputs": [],
   "source": [
    "temp1['Complaint-ID'] = df['Complaint-ID']"
   ]
  },
  {
   "cell_type": "code",
   "execution_count": 86,
   "metadata": {},
   "outputs": [],
   "source": [
    "temp2['Complaint-ID'] = df_test['Complaint-ID']"
   ]
  },
  {
   "cell_type": "code",
   "execution_count": 87,
   "metadata": {},
   "outputs": [],
   "source": [
    "x_train,x_test,y_train,y_test=train_test_split(df.drop({'Days-Needed', 'Complaint-ID','Consumer-complaint-summary','Summary-lang'},axis=1),df['Days-Needed'],test_size=0.3,random_state=42)"
   ]
  },
  {
   "cell_type": "code",
   "execution_count": 88,
   "metadata": {},
   "outputs": [
    {
     "name": "stderr",
     "output_type": "stream",
     "text": [
      "/Users/rahulsharma/anaconda2/lib/python2.7/site-packages/sklearn/ensemble/forest.py:246: FutureWarning: The default value of n_estimators will change from 10 in version 0.20 to 100 in 0.22.\n",
      "  \"10 in version 0.20 to 100 in 0.22.\", FutureWarning)\n"
     ]
    },
    {
     "data": {
      "text/plain": [
       "{'Modelling Algo': ['RandomForestRegressor',\n",
       "  'AdaBoostRegressor()',\n",
       "  'BaggingRegressor',\n",
       "  'KNeighborsRegressor'],\n",
       " 'RMSLE': [1.1117905408909803,\n",
       "  1.5336379086613938,\n",
       "  1.1049773478593632,\n",
       "  1.1895517311208395]}"
      ]
     },
     "execution_count": 88,
     "metadata": {},
     "output_type": "execute_result"
    }
   ],
   "source": [
    "models=[RandomForestRegressor(),AdaBoostRegressor(), BaggingRegressor(),KNeighborsRegressor()]\n",
    "model_names=['RandomForestRegressor','AdaBoostRegressor()','BaggingRegressor','KNeighborsRegressor']\n",
    "rmsle=[]\n",
    "d={}\n",
    "for model in range (len(models)):\n",
    "    clf=models[model]\n",
    "    clf.fit(x_train,y_train)\n",
    "    test_pred=clf.predict(x_test)\n",
    "    \n",
    "    rmsle.append(np.sqrt(mean_squared_log_error(test_pred,y_test)))\n",
    "d={'Modelling Algo':model_names,'RMSLE':rmsle}   \n",
    "d"
   ]
  },
  {
   "cell_type": "code",
   "execution_count": 89,
   "metadata": {},
   "outputs": [
    {
     "data": {
      "text/html": [
       "<div>\n",
       "<style scoped>\n",
       "    .dataframe tbody tr th:only-of-type {\n",
       "        vertical-align: middle;\n",
       "    }\n",
       "\n",
       "    .dataframe tbody tr th {\n",
       "        vertical-align: top;\n",
       "    }\n",
       "\n",
       "    .dataframe thead th {\n",
       "        text-align: right;\n",
       "    }\n",
       "</style>\n",
       "<table border=\"1\" class=\"dataframe\">\n",
       "  <thead>\n",
       "    <tr style=\"text-align: right;\">\n",
       "      <th></th>\n",
       "      <th>Modelling Algo</th>\n",
       "      <th>RMSLE</th>\n",
       "    </tr>\n",
       "  </thead>\n",
       "  <tbody>\n",
       "    <tr>\n",
       "      <th>0</th>\n",
       "      <td>RandomForestRegressor</td>\n",
       "      <td>1.111791</td>\n",
       "    </tr>\n",
       "    <tr>\n",
       "      <th>1</th>\n",
       "      <td>AdaBoostRegressor()</td>\n",
       "      <td>1.533638</td>\n",
       "    </tr>\n",
       "    <tr>\n",
       "      <th>2</th>\n",
       "      <td>BaggingRegressor</td>\n",
       "      <td>1.104977</td>\n",
       "    </tr>\n",
       "    <tr>\n",
       "      <th>3</th>\n",
       "      <td>KNeighborsRegressor</td>\n",
       "      <td>1.189552</td>\n",
       "    </tr>\n",
       "  </tbody>\n",
       "</table>\n",
       "</div>"
      ],
      "text/plain": [
       "          Modelling Algo     RMSLE\n",
       "0  RandomForestRegressor  1.111791\n",
       "1    AdaBoostRegressor()  1.533638\n",
       "2       BaggingRegressor  1.104977\n",
       "3    KNeighborsRegressor  1.189552"
      ]
     },
     "execution_count": 89,
     "metadata": {},
     "output_type": "execute_result"
    }
   ],
   "source": [
    "rmsle_frame = pd.DataFrame(d)\n",
    "rmsle_frame"
   ]
  },
  {
   "cell_type": "code",
   "execution_count": 90,
   "metadata": {},
   "outputs": [
    {
     "data": {
      "text/plain": [
       "<seaborn.axisgrid.FacetGrid at 0x1a2672cd50>"
      ]
     },
     "execution_count": 90,
     "metadata": {},
     "output_type": "execute_result"
    },
    {
     "data": {
      "image/png": "[encoded data removed]",
      "text/plain": [
       "<matplotlib.figure.Figure at 0x1a2672cf50>"
      ]
     },
     "metadata": {},
     "output_type": "display_data"
    }
   ],
   "source": [
    "sns.factorplot(y=\"Modelling Algo\", x=\"RMSLE\", data=rmsle_frame, aspect=1.5, kind=\"bar\")"
   ]
  },
  {
   "cell_type": "code",
   "execution_count": 91,
   "metadata": {},
   "outputs": [
    {
     "name": "stderr",
     "output_type": "stream",
     "text": [
      "/Users/rahulsharma/anaconda2/lib/python2.7/site-packages/sklearn/model_selection/_split.py:2053: FutureWarning: You should specify a value for 'cv' instead of relying on the default value. The default value will change from 3 to 5 in version 0.22.\n",
      "  warnings.warn(CV_WARNING, FutureWarning)\n"
     ]
    },
    {
     "name": "stdout",
     "output_type": "stream",
     "text": [
      "1.1072686395846338\n"
     ]
    }
   ],
   "source": [
    "no_of_test = [500]\n",
    "params_dict = {'n_estimators':no_of_test, 'n_jobs':[-1], 'max_features':['auto', 'sqrt', 'log2']}\n",
    "clf_rfr = GridSearchCV(estimator=RandomForestRegressor(), param_grid=params_dict, scoring='neg_mean_squared_log_error')\n",
    "clf_rfr.fit(x_train,y_train)\n",
    "pred = clf_rfr.predict(x_test)\n",
    "print((np.sqrt(mean_squared_log_error(pred,y_test))))"
   ]
  },
  {
   "cell_type": "code",
   "execution_count": 92,
   "metadata": {},
   "outputs": [],
   "source": [
    "pred=clf_rfr.predict(df_test.drop({'Complaint-ID', 'Consumer-complaint-summary'}, axis=1))\n",
    "d={'Complaint-ID':df_test['Complaint-ID'],'Days-Needed':pred, 'Date-received':test['Date-received']}\n",
    "ans=pd.DataFrame(d)"
   ]
  },
  {
   "cell_type": "code",
   "execution_count": 93,
   "metadata": {},
   "outputs": [],
   "source": [
    "ans['Round-int'] = ans['Days-Needed'].astype(int)"
   ]
  },
  {
   "cell_type": "code",
   "execution_count": 94,
   "metadata": {},
   "outputs": [],
   "source": [
    "ans['Days-Needed'] = ans['Round-int']"
   ]
  },
  {
   "cell_type": "code",
   "execution_count": 95,
   "metadata": {},
   "outputs": [],
   "source": [
    "ans.drop({'Round-int'},axis=1,inplace=True)"
   ]
  },
  {
   "cell_type": "code",
   "execution_count": 96,
   "metadata": {},
   "outputs": [
    {
     "data": {
      "text/html": [
       "<div>\n",
       "<style scoped>\n",
       "    .dataframe tbody tr th:only-of-type {\n",
       "        vertical-align: middle;\n",
       "    }\n",
       "\n",
       "    .dataframe tbody tr th {\n",
       "        vertical-align: top;\n",
       "    }\n",
       "\n",
       "    .dataframe thead th {\n",
       "        text-align: right;\n",
       "    }\n",
       "</style>\n",
       "<table border=\"1\" class=\"dataframe\">\n",
       "  <thead>\n",
       "    <tr style=\"text-align: right;\">\n",
       "      <th></th>\n",
       "      <th>Complaint-ID</th>\n",
       "      <th>Date-received</th>\n",
       "      <th>Days-Needed</th>\n",
       "    </tr>\n",
       "  </thead>\n",
       "  <tbody>\n",
       "    <tr>\n",
       "      <th>0</th>\n",
       "      <td>Te-1</td>\n",
       "      <td>8/18/2016</td>\n",
       "      <td>0</td>\n",
       "    </tr>\n",
       "    <tr>\n",
       "      <th>1</th>\n",
       "      <td>Te-2</td>\n",
       "      <td>4/18/2016</td>\n",
       "      <td>8</td>\n",
       "    </tr>\n",
       "    <tr>\n",
       "      <th>2</th>\n",
       "      <td>Te-3</td>\n",
       "      <td>3/23/2016</td>\n",
       "      <td>1</td>\n",
       "    </tr>\n",
       "    <tr>\n",
       "      <th>3</th>\n",
       "      <td>Te-4</td>\n",
       "      <td>6/26/2017</td>\n",
       "      <td>2</td>\n",
       "    </tr>\n",
       "    <tr>\n",
       "      <th>4</th>\n",
       "      <td>Te-5</td>\n",
       "      <td>5/13/2016</td>\n",
       "      <td>0</td>\n",
       "    </tr>\n",
       "  </tbody>\n",
       "</table>\n",
       "</div>"
      ],
      "text/plain": [
       "  Complaint-ID Date-received  Days-Needed\n",
       "0         Te-1     8/18/2016            0\n",
       "1         Te-2     4/18/2016            8\n",
       "2         Te-3     3/23/2016            1\n",
       "3         Te-4     6/26/2017            2\n",
       "4         Te-5     5/13/2016            0"
      ]
     },
     "execution_count": 96,
     "metadata": {},
     "output_type": "execute_result"
    }
   ],
   "source": [
    "ans.head()"
   ]
  },
  {
   "cell_type": "code",
   "execution_count": 97,
   "metadata": {},
   "outputs": [],
   "source": [
    "from datetime import datetime, timedelta"
   ]
  },
  {
   "cell_type": "code",
   "execution_count": null,
   "metadata": {},
   "outputs": [],
   "source": []
  },
  {
   "cell_type": "code",
   "execution_count": null,
   "metadata": {},
   "outputs": [],
   "source": []
  },
  {
   "cell_type": "code",
   "execution_count": 98,
   "metadata": {},
   "outputs": [
    {
     "data": {
      "text/plain": [
       "array(['Debt collection', 'Mortgage', 'Credit card', 'Credit reporting',\n",
       "       'Consumer Loan', 'Credit card or prepaid card',\n",
       "       'Credit reporting, credit repair services, or other personal consumer reports',\n",
       "       'Student loan', 'Bank account or service', 'Vehicle loan or lease',\n",
       "       'Payday loan, title loan, or personal loan',\n",
       "       'Money transfer, virtual currency, or money service',\n",
       "       'Prepaid card', 'Payday loan', 'Checking or savings account',\n",
       "       'Other financial service', 'Money transfers', 'Virtual currency'],\n",
       "      dtype=object)"
      ]
     },
     "execution_count": 98,
     "metadata": {},
     "output_type": "execute_result"
    }
   ],
   "source": [
    "tran_array"
   ]
  },
  {
   "cell_type": "code",
   "execution_count": 99,
   "metadata": {},
   "outputs": [],
   "source": [
    "tran_array_map = {'Debt collection':11, 'Mortgage':12, 'Credit card':13, 'Credit reporting':14,\n",
    "       'Consumer Loan':15, 'Credit card or prepaid card':16,\n",
    "       'Credit reporting, credit repair services, or other personal consumer reports':17,\n",
    "       'Student loan':18, 'Bank account or service':19, 'Vehicle loan or lease':20,\n",
    "       'Payday loan, title loan, or personal loan':21,\n",
    "       'Money transfer, virtual currency, or money service':22,\n",
    "       'Prepaid card':23, 'Payday loan':24, 'Checking or savings account':25,\n",
    "       'Other financial service':26, 'Money transfers':27, 'Virtual currency':28}"
   ]
  },
  {
   "cell_type": "code",
   "execution_count": 100,
   "metadata": {},
   "outputs": [],
   "source": [
    "ans['Transaction-type'] = df_test['Transaction-Type']"
   ]
  },
  {
   "cell_type": "code",
   "execution_count": 102,
   "metadata": {},
   "outputs": [
    {
     "data": {
      "text/html": [
       "<div>\n",
       "<style scoped>\n",
       "    .dataframe tbody tr th:only-of-type {\n",
       "        vertical-align: middle;\n",
       "    }\n",
       "\n",
       "    .dataframe tbody tr th {\n",
       "        vertical-align: top;\n",
       "    }\n",
       "\n",
       "    .dataframe thead th {\n",
       "        text-align: right;\n",
       "    }\n",
       "</style>\n",
       "<table border=\"1\" class=\"dataframe\">\n",
       "  <thead>\n",
       "    <tr style=\"text-align: right;\">\n",
       "      <th></th>\n",
       "      <th>Complaint-ID</th>\n",
       "      <th>Date-received</th>\n",
       "      <th>Days-Needed</th>\n",
       "      <th>Transaction-type</th>\n",
       "    </tr>\n",
       "  </thead>\n",
       "  <tbody>\n",
       "    <tr>\n",
       "      <th>0</th>\n",
       "      <td>Te-1</td>\n",
       "      <td>8/18/2016</td>\n",
       "      <td>0</td>\n",
       "      <td>0</td>\n",
       "    </tr>\n",
       "    <tr>\n",
       "      <th>1</th>\n",
       "      <td>Te-2</td>\n",
       "      <td>4/18/2016</td>\n",
       "      <td>8</td>\n",
       "      <td>7</td>\n",
       "    </tr>\n",
       "    <tr>\n",
       "      <th>2</th>\n",
       "      <td>Te-3</td>\n",
       "      <td>3/23/2016</td>\n",
       "      <td>1</td>\n",
       "      <td>5</td>\n",
       "    </tr>\n",
       "    <tr>\n",
       "      <th>3</th>\n",
       "      <td>Te-4</td>\n",
       "      <td>6/26/2017</td>\n",
       "      <td>2</td>\n",
       "      <td>15</td>\n",
       "    </tr>\n",
       "    <tr>\n",
       "      <th>4</th>\n",
       "      <td>Te-5</td>\n",
       "      <td>5/13/2016</td>\n",
       "      <td>0</td>\n",
       "      <td>5</td>\n",
       "    </tr>\n",
       "  </tbody>\n",
       "</table>\n",
       "</div>"
      ],
      "text/plain": [
       "  Complaint-ID Date-received  Days-Needed  Transaction-type\n",
       "0         Te-1     8/18/2016            0                 0\n",
       "1         Te-2     4/18/2016            8                 7\n",
       "2         Te-3     3/23/2016            1                 5\n",
       "3         Te-4     6/26/2017            2                15\n",
       "4         Te-5     5/13/2016            0                 5"
      ]
     },
     "execution_count": 102,
     "metadata": {},
     "output_type": "execute_result"
    }
   ],
   "source": [
    "ans.head()"
   ]
  },
  {
   "cell_type": "code",
   "execution_count": 103,
   "metadata": {},
   "outputs": [],
   "source": [
    "inv_map = {v: k for k, v in tran_array_map.iteritems()}"
   ]
  },
  {
   "cell_type": "code",
   "execution_count": 104,
   "metadata": {},
   "outputs": [
    {
     "data": {
      "text/plain": [
       "{11: 'Debt collection',\n",
       " 12: 'Mortgage',\n",
       " 13: 'Credit card',\n",
       " 14: 'Credit reporting',\n",
       " 15: 'Consumer Loan',\n",
       " 16: 'Credit card or prepaid card',\n",
       " 17: 'Credit reporting, credit repair services, or other personal consumer reports',\n",
       " 18: 'Student loan',\n",
       " 19: 'Bank account or service',\n",
       " 20: 'Vehicle loan or lease',\n",
       " 21: 'Payday loan, title loan, or personal loan',\n",
       " 22: 'Money transfer, virtual currency, or money service',\n",
       " 23: 'Prepaid card',\n",
       " 24: 'Payday loan',\n",
       " 25: 'Checking or savings account',\n",
       " 26: 'Other financial service',\n",
       " 27: 'Money transfers',\n",
       " 28: 'Virtual currency'}"
      ]
     },
     "execution_count": 104,
     "metadata": {},
     "output_type": "execute_result"
    }
   ],
   "source": [
    "inv_map"
   ]
  },
  {
   "cell_type": "code",
   "execution_count": 105,
   "metadata": {},
   "outputs": [],
   "source": [
    "ans['Transaction-type'] = test['Transaction-Type']"
   ]
  },
  {
   "cell_type": "code",
   "execution_count": 106,
   "metadata": {},
   "outputs": [],
   "source": [
    "ans['Transaction-time'] = test['Transaction-Type']"
   ]
  },
  {
   "cell_type": "code",
   "execution_count": 107,
   "metadata": {},
   "outputs": [],
   "source": [
    "ans['Transaction-time'] = ans['Transaction-time'].map(tran_array_map)"
   ]
  },
  {
   "cell_type": "code",
   "execution_count": 108,
   "metadata": {},
   "outputs": [
    {
     "data": {
      "text/html": [
       "<div>\n",
       "<style scoped>\n",
       "    .dataframe tbody tr th:only-of-type {\n",
       "        vertical-align: middle;\n",
       "    }\n",
       "\n",
       "    .dataframe tbody tr th {\n",
       "        vertical-align: top;\n",
       "    }\n",
       "\n",
       "    .dataframe thead th {\n",
       "        text-align: right;\n",
       "    }\n",
       "</style>\n",
       "<table border=\"1\" class=\"dataframe\">\n",
       "  <thead>\n",
       "    <tr style=\"text-align: right;\">\n",
       "      <th></th>\n",
       "      <th>Complaint-ID</th>\n",
       "      <th>Date-received</th>\n",
       "      <th>Days-Needed</th>\n",
       "      <th>Transaction-type</th>\n",
       "      <th>Transaction-time</th>\n",
       "    </tr>\n",
       "  </thead>\n",
       "  <tbody>\n",
       "    <tr>\n",
       "      <th>0</th>\n",
       "      <td>Te-1</td>\n",
       "      <td>8/18/2016</td>\n",
       "      <td>0</td>\n",
       "      <td>Bank account or service</td>\n",
       "      <td>19</td>\n",
       "    </tr>\n",
       "    <tr>\n",
       "      <th>1</th>\n",
       "      <td>Te-2</td>\n",
       "      <td>4/18/2016</td>\n",
       "      <td>8</td>\n",
       "      <td>Debt collection</td>\n",
       "      <td>11</td>\n",
       "    </tr>\n",
       "    <tr>\n",
       "      <th>2</th>\n",
       "      <td>Te-3</td>\n",
       "      <td>3/23/2016</td>\n",
       "      <td>1</td>\n",
       "      <td>Credit reporting</td>\n",
       "      <td>14</td>\n",
       "    </tr>\n",
       "    <tr>\n",
       "      <th>3</th>\n",
       "      <td>Te-4</td>\n",
       "      <td>6/26/2017</td>\n",
       "      <td>2</td>\n",
       "      <td>Student loan</td>\n",
       "      <td>18</td>\n",
       "    </tr>\n",
       "    <tr>\n",
       "      <th>4</th>\n",
       "      <td>Te-5</td>\n",
       "      <td>5/13/2016</td>\n",
       "      <td>0</td>\n",
       "      <td>Credit reporting</td>\n",
       "      <td>14</td>\n",
       "    </tr>\n",
       "  </tbody>\n",
       "</table>\n",
       "</div>"
      ],
      "text/plain": [
       "  Complaint-ID Date-received  Days-Needed         Transaction-type  \\\n",
       "0         Te-1     8/18/2016            0  Bank account or service   \n",
       "1         Te-2     4/18/2016            8          Debt collection   \n",
       "2         Te-3     3/23/2016            1         Credit reporting   \n",
       "3         Te-4     6/26/2017            2             Student loan   \n",
       "4         Te-5     5/13/2016            0         Credit reporting   \n",
       "\n",
       "   Transaction-time  \n",
       "0                19  \n",
       "1                11  \n",
       "2                14  \n",
       "3                18  \n",
       "4                14  "
      ]
     },
     "execution_count": 108,
     "metadata": {},
     "output_type": "execute_result"
    }
   ],
   "source": [
    "ans.head()"
   ]
  },
  {
   "cell_type": "code",
   "execution_count": 109,
   "metadata": {},
   "outputs": [],
   "source": [
    "ans.to_csv('Complaint--Status--Tracking--New.csv',index=False)"
   ]
  },
  {
   "cell_type": "code",
   "execution_count": null,
   "metadata": {},
   "outputs": [
    {
     "name": "stderr",
     "output_type": "stream",
     "text": [
      "/Users/rahulsharma/anaconda2/lib/python2.7/site-packages/ipykernel_launcher.py:7: SettingWithCopyWarning: \n",
      "A value is trying to be set on a copy of a slice from a DataFrame\n",
      "\n",
      "See the caveats in the documentation: http://pandas.pydata.org/pandas-docs/stable/indexing.html#indexing-view-versus-copy\n",
      "  import sys\n"
     ]
    }
   ],
   "source": [
    "for i in range(0,len(ans)):\n",
    "    x = ans['Date-received'][i]\n",
    "    x_datetime = dt.strptime(str(x), \"%m/%d/%Y\")\n",
    "    ti = ans['Days-Needed'][i] + ans['Transaction-time'][i]\n",
    "    new_datetime = x_datetime + td(days=ti)\n",
    "    x2 = new_datetime.strftime(\"%d/%m/%Y\")\n",
    "    ans['Finish-Date'][i] = x2    "
   ]
  },
  {
   "cell_type": "code",
   "execution_count": 3,
   "metadata": {},
   "outputs": [
    {
     "data": {
      "text/html": [
       "<div>\n",
       "<style scoped>\n",
       "    .dataframe tbody tr th:only-of-type {\n",
       "        vertical-align: middle;\n",
       "    }\n",
       "\n",
       "    .dataframe tbody tr th {\n",
       "        vertical-align: top;\n",
       "    }\n",
       "\n",
       "    .dataframe thead th {\n",
       "        text-align: right;\n",
       "    }\n",
       "</style>\n",
       "<table border=\"1\" class=\"dataframe\">\n",
       "  <thead>\n",
       "    <tr style=\"text-align: right;\">\n",
       "      <th></th>\n",
       "      <th>Unnamed: 0</th>\n",
       "      <th>Complaint-ID</th>\n",
       "      <th>Date-received</th>\n",
       "      <th>Days-Needed</th>\n",
       "      <th>Transaction-type</th>\n",
       "      <th>Transaction-time</th>\n",
       "      <th>Finish-Date</th>\n",
       "    </tr>\n",
       "  </thead>\n",
       "  <tbody>\n",
       "    <tr>\n",
       "      <th>0</th>\n",
       "      <td>0</td>\n",
       "      <td>Te-1</td>\n",
       "      <td>8/18/2016</td>\n",
       "      <td>0</td>\n",
       "      <td>Bank account or service</td>\n",
       "      <td>19</td>\n",
       "      <td>06/09/2016</td>\n",
       "    </tr>\n",
       "    <tr>\n",
       "      <th>1</th>\n",
       "      <td>1</td>\n",
       "      <td>Te-2</td>\n",
       "      <td>4/18/2016</td>\n",
       "      <td>8</td>\n",
       "      <td>Debt collection</td>\n",
       "      <td>11</td>\n",
       "      <td>07/05/2016</td>\n",
       "    </tr>\n",
       "    <tr>\n",
       "      <th>2</th>\n",
       "      <td>2</td>\n",
       "      <td>Te-3</td>\n",
       "      <td>3/23/2016</td>\n",
       "      <td>1</td>\n",
       "      <td>Credit reporting</td>\n",
       "      <td>14</td>\n",
       "      <td>07/04/2016</td>\n",
       "    </tr>\n",
       "    <tr>\n",
       "      <th>3</th>\n",
       "      <td>3</td>\n",
       "      <td>Te-4</td>\n",
       "      <td>6/26/2017</td>\n",
       "      <td>2</td>\n",
       "      <td>Student loan</td>\n",
       "      <td>18</td>\n",
       "      <td>16/07/2017</td>\n",
       "    </tr>\n",
       "    <tr>\n",
       "      <th>4</th>\n",
       "      <td>4</td>\n",
       "      <td>Te-5</td>\n",
       "      <td>5/13/2016</td>\n",
       "      <td>0</td>\n",
       "      <td>Credit reporting</td>\n",
       "      <td>14</td>\n",
       "      <td>27/05/2016</td>\n",
       "    </tr>\n",
       "  </tbody>\n",
       "</table>\n",
       "</div>"
      ],
      "text/plain": [
       "   Unnamed: 0 Complaint-ID Date-received  Days-Needed  \\\n",
       "0           0         Te-1     8/18/2016            0   \n",
       "1           1         Te-2     4/18/2016            8   \n",
       "2           2         Te-3     3/23/2016            1   \n",
       "3           3         Te-4     6/26/2017            2   \n",
       "4           4         Te-5     5/13/2016            0   \n",
       "\n",
       "          Transaction-type  Transaction-time Finish-Date  \n",
       "0  Bank account or service                19  06/09/2016  \n",
       "1          Debt collection                11  07/05/2016  \n",
       "2         Credit reporting                14  07/04/2016  \n",
       "3             Student loan                18  16/07/2017  \n",
       "4         Credit reporting                14  27/05/2016  "
      ]
     },
     "execution_count": 3,
     "metadata": {},
     "output_type": "execute_result"
    }
   ],
   "source": [
    "ans_final.head()"
   ]
  },
  {
   "cell_type": "code",
   "execution_count": null,
   "metadata": {},
   "outputs": [],
   "source": []
  },
  {
   "cell_type": "code",
   "execution_count": null,
   "metadata": {},
   "outputs": [],
   "source": []
  },
  {
   "cell_type": "code",
   "execution_count": null,
   "metadata": {},
   "outputs": [],
   "source": []
  },
  {
   "cell_type": "code",
   "execution_count": null,
   "metadata": {},
   "outputs": [],
   "source": []
  },
  {
   "cell_type": "code",
   "execution_count": null,
   "metadata": {},
   "outputs": [],
   "source": []
  },
  {
   "cell_type": "code",
   "execution_count": null,
   "metadata": {},
   "outputs": [],
   "source": []
  },
  {
   "cell_type": "code",
   "execution_count": null,
   "metadata": {},
   "outputs": [],
   "source": []
  },
  {
   "cell_type": "code",
   "execution_count": null,
   "metadata": {},
   "outputs": [],
   "source": []
  },
  {
   "cell_type": "code",
   "execution_count": null,
   "metadata": {},
   "outputs": [],
   "source": []
  },
  {
   "cell_type": "code",
   "execution_count": null,
   "metadata": {},
   "outputs": [],
   "source": []
  },
  {
   "cell_type": "code",
   "execution_count": null,
   "metadata": {},
   "outputs": [],
   "source": []
  }
 ],
 "metadata": {
  "kernelspec": {
   "display_name": "Python 2",
   "language": "python",
   "name": "python2"
  },
  "language_info": {
   "codemirror_mode": {
    "name": "ipython",
    "version": 2
   },
   "file_extension": ".py",
   "mimetype": "text/x-python",
   "name": "python",
   "nbconvert_exporter": "python",
   "pygments_lexer": "ipython2",
   "version": "2.7.14"
  }
 },
 "nbformat": 4,
 "nbformat_minor": 2
}
